{
 "cells": [
  {
   "cell_type": "code",
   "execution_count": 1,
   "metadata": {
    "collapsed": false
   },
   "outputs": [],
   "source": [
    "# this block is used to define the system parameters and initialize the system at steady state. You are strongly discouraged \n",
    "#from changing anything in this block\n",
    "\n",
    "\n",
    "# Imports\n",
    "\n",
    "from math import pi, exp\n",
    "from scipy.optimize import fsolve\n",
    "import numpy\n",
    "from steady_state_values import steady_state\n",
    "from dynamic_simulation import differential_equations,states,algebraic_equations_kinetics,algebraic_equations_density,algebraic_equations_h,\\\n",
    "algebraic_equations_valve,algebraic_equations_section_height,algebraic_equations_heat_transfer, Cc_with_dead_time\n",
    "\n",
    "\n",
    "from matplotlib import pyplot as plot\n",
    "%matplotlib inline"
   ]
  },
  {
   "cell_type": "code",
   "execution_count": 27,
   "metadata": {
    "collapsed": false
   },
   "outputs": [],
   "source": [
    "# Parameters\n",
    "Ko = 2.941e8  # m^3/(s*kmol)\n",
    "Ea = 75360  # KJ/kmol\n",
    "R = 8.313  # KJ/(kmol K)\n",
    "rho_a = 801.2  # kg/m^3\n",
    "rho_b = 966.2  # kg/m^3\n",
    "rho_c = 1004   # kg/m^3\n",
    "rho_solvent = 764.6  # kg/m^3\n",
    "rhocw = 966.2  # kg/m^3 Water density\n",
    "MM_A = 58.1  # kg/kmol\n",
    "MM_B = 18  # kg/kmol\n",
    "MM_C = 76.09  # kg/kmol\n",
    "\n",
    "Cv1 = 3.089e-3  # m^2\n",
    "alpha1 = 2\n",
    "delta_Pv1 = 703.6  # Pa\n",
    "delta_Pv3 = 100 #Pa\n",
    "Cv2 = 1.33e-3  # m^2\n",
    "Cv3 = (2.360e-3/(2**(-0.5)))/(numpy.sqrt(delta_Pv3/966.2))  #m^2\n",
    "alpha2 = 2\n",
    "alpha3 = 2\n",
    "g = 9.807  # m/s^2\n",
    "tau_v1 = 36\n",
    "zeta_v1 = 0.35\n",
    "Kv1 = 1/80  # 1/Kpa\n",
    "Kv3 = 1/80   # 1/kpa\n",
    "tau_v2 = 36\n",
    "tau_v3 = 36\n",
    "Kv2 = 1/80  # 1/Kpa\n",
    "\n",
    "Cp1 = 2.522  # KJ/kg degC\n",
    "Cp2 = 4.187  # KJ/kg degC\n",
    "Cp3 = 2.531  # KJ/kg degC\n",
    "Cpcw = 4.187  # BTU/lbm/degF\n",
    "\n",
    "delta_H = -84660  # Kj/kmol A\n",
    "Uj = 4.750  # kW/(m^2 degC)\n",
    "D = 1  # m\n",
    "U_air = 44.5/1000  # kW/(m^2 degC)\n",
    "L = 1.5*D  # m\n",
    "A = (pi/4)*(D**2)  # m^2\n",
    "To = 21.1  # degC\n",
    "theta = 5  # s\n",
    "Vj = ((pi/4)*(D*1.1)**2 - A)*L/3  # m^3"
   ]
  },
  {
   "cell_type": "code",
   "execution_count": 82,
   "metadata": {
    "collapsed": false
   },
   "outputs": [],
   "source": [
    "################# EXOGENOUS INPUTS ###############################\n",
    "\n",
    "# Disturbances\n",
    "\n",
    "def Cao(t):               #Dist\n",
    "    return 7.4  # kmol/m^3\n",
    "\n",
    "\n",
    "def Tbo(t):               #Dist\n",
    "    return 24  # degC\n",
    "\n",
    "\n",
    "def F1(t):                #Dist\n",
    "    return 7.334e-4  # m^3/s\n",
    "\n",
    "# MV's\n",
    "\n",
    "def Ps1(t):               \n",
    "    return 60 +20\n",
    "\n",
    "def Ps2(t):            \n",
    "    return 60 \n",
    "\n",
    "def Ps3(t):\n",
    "    return 60 \n",
    "\n",
    "\n",
    "# assumed constant\n",
    "def Cbo(t):              #Const\n",
    "    return 50     #kmol/m3\n",
    "\n",
    "def Tcwo(t):\n",
    "    return 29.4  # degc\n",
    "\n",
    "\n",
    "def Tao(t):              #const\n",
    "    return 24  # degC\n",
    "\n"
   ]
  },
  {
   "cell_type": "code",
   "execution_count": 83,
   "metadata": {
    "collapsed": false
   },
   "outputs": [],
   "source": [
    "########################### INITIALIZING THE SYSTEM AT STEADY STATE###################\n",
    "\n",
    "# defining timespan and deadtime \n",
    "tspan = numpy.linspace(0, 2000, 1000)\n",
    "dt = tspan[1]-tspan[0]\n",
    "deadtime = 90\n",
    "\n",
    "ss_values = steady_state()\n",
    "ss_values['xv3'] = 0.5\n",
    "ss_values['F_cw'] = 2.360e-3\n",
    "# initial steady state values\n",
    "ca = ss_values['Ca']\n",
    "cb = ss_values['Cb']\n",
    "cc = ss_values['Cc']\n",
    "rho_1 = ss_values['rho1']\n",
    "rho_2 = ss_values['rho2']\n",
    "rho_3 = ss_values['rho3']\n",
    "v = ss_values['V']\n",
    "Q_j_tot = ss_values['Qj_tot']\n",
    "Temp = ss_values['T']\n",
    "Na = ss_values['Na']\n",
    "F_2 = ss_values['F2']\n",
    "F_3 = ss_values['F3']\n",
    "F_cw = ss_values['F_cw']\n",
    "Z = ss_values['z']\n",
    "x_v1 = ss_values['xv1']\n",
    "x_v2 = ss_values['xv2']\n",
    "x_v3 = ss_values['xv3']\n",
    "T_cw1 = ss_values['T_cw1']\n",
    "T_cw2 = ss_values['T_cw2']\n",
    "T_cw3 = ss_values['T_cw3']\n",
    "Q_j1 = ss_values['Qj1']\n",
    "Q_j2 = ss_values['Qj2']\n",
    "Q_j3 = ss_values['Qj3']\n",
    "Q_air1 = ss_values['Qair1']\n",
    "Q_air2 = ss_values['Qair2']\n",
    "Q_air3 = ss_values['Qair3']\n",
    "dt = tspan[1] - tspan[0]\n",
    "rao = ss_values['rao']\n",
    "rbo = ss_values['rbo']\n",
    "ra = ss_values['ra']\n",
    "rb = ss_values['rb']\n",
    "rc = ss_values['rc']\n",
    "rsolvent = ss_values['rsolvent']\n",
    "h_1 = ss_values['h1']\n",
    "h_2 = ss_values['h2']\n",
    "h_3 = ss_values['h3']\n",
    "h = ss_values['H']\n",
    "delta_Pv2 = ss_values['d_Pv2']\n",
    "Cc_measured = cc\n",
    "\n",
    "\n",
    "names = ['F2', 'F3','Fcw', 'Ca', 'Cb', 'Cc', 'Na', 'V', 'rho1', 'rho2', 'rho3', 'z', 'xv1', 'xv2','xv3', 'T', 'Qj_tot', 'T_cw1',\n",
    "         'T_cw2', 'T_cw3', 'Qj1', 'Qj2', 'Qj3', 'Qair1', 'Qair2', 'Qair3', 'rao', 'rbo', 'ra', 'rb', 'rc',\n",
    "         'rsolvent', 'h1', 'h2', 'h3', 'H', 'd_Pv2', 'Cc_measured']\n",
    "\n",
    "# create the save dictionary\n",
    "\n",
    "solution = {}\n",
    "\n",
    "for key in names:\n",
    "    solution[key] = []\n",
    "\n",
    "\n",
    "# setting up the system for integration and solution storage\n",
    "\n",
    "Cc_list = numpy.zeros_like(tspan)\n",
    "\n",
    " ############## LOOPING and euler integration ###########\n",
    "    \n",
    "for i, t in enumerate(tspan):         # we start at t1 not t0 because we have specified all the values to be at steady state at t0\n",
    "\n",
    "    #system inputs (you may want to change one of these to be a controller output)\n",
    "\n",
    "    f1 = F1(t)\n",
    "    cao = Cao(t)\n",
    "    cbo = Cbo(t)\n",
    "    ps1 = Ps1(t)\n",
    "    ps2 = Ps2(t)\n",
    "    ps3 = Ps3(t)\n",
    "    tao = Tao(t)\n",
    "    tbo = Tbo(t)\n",
    "    tcwo = Tcwo(t)\n",
    "    \n",
    "    ################# Updating solution dictionary ##############################################################\n",
    "\n",
    "    sol = [F_2, F_3,F_cw, ca, cb, cc, Na, v, rho_1, rho_2, rho_3, Z, x_v1, x_v2,x_v3, Temp,  Q_j_tot, T_cw1, T_cw2, T_cw3,\\\n",
    "           Q_j1, Q_j2, Q_j3, Q_air1, Q_air2, Q_air3, rao, rbo, ra, rb, rc, rsolvent, h_1, h_2, h_3, h, delta_Pv2,Cc_measured]\n",
    "    \n",
    "    \n",
    "    for j,name in enumerate(names):\n",
    "        solution[name].append(sol[j])\n",
    "    \n",
    "        \n",
    "    ################################ Add controller here ###################################################     \n",
    "#     ccsp = Ccsp(t)   # controller set point \n",
    "#     error = ccsp - Cc_measured     \n",
    "\n",
    "\n",
    "    \n",
    "    \n",
    "    \n",
    "    ################################# SYSTEM DYNAMICS - DO NOT EDIT! ###########################################\n",
    "    # here we calculate the differential and algebraic equations to get the next value for each variable, you are encouraged to read through and \n",
    "    # understand the mechanics of the loop but it is not necessary to edit this section.\n",
    "\n",
    "    diff_eq_inputs = [f1, F_2, F_3,F_cw, cao, cbo, ca, cb, cc, Na, v, rho_1, rho_2, rho_3, Z, x_v1, x_v2,x_v3, ps1,\n",
    "                      ps2,ps3, tao, tbo, Temp,\n",
    "                      Q_j_tot, Q_j1, Q_j2, Q_j3, tcwo, T_cw1, T_cw2, T_cw3, Q_air1, Q_air2, Q_air3]\n",
    "\n",
    "    # calculating differential states and integrating stepwise\n",
    "    deltas = differential_equations(diff_eq_inputs)              # [ dVca_dt, dVCb_dt...]\n",
    "    current_states = [v*ca, v*cb, v*cc, v*rho_3, Z, x_v1, x_v2, x_v3, rho_3*v*Temp, T_cw1, T_cw2, T_cw3]\n",
    "    \n",
    "    VCa, VCb, VCc, Vrho3, Z, x_v1, x_v2,x_v3, rho3VT, T_cw1, T_cw2, T_cw3 = [j + deltas[i]*dt for i,j in enumerate(current_states)]  # euler integration step\n",
    "    \n",
    "    states_inputs = [VCa, VCb, VCc, Vrho3, rho3VT]              # used to solve for states we are interested in\n",
    "    states_old = [ca, cb, cc, v, rho_3, Temp]                   #initial guesses for fsolve\n",
    "\n",
    "    # newly calculated state variables\n",
    "    ca, cb, cc, v, rho_3, Temp = states(states_inputs, states_old)\n",
    "\n",
    "    # list of the inputs to solve the kinetic parameters\n",
    "    kinetics_inputs = [ca, cb, Temp]\n",
    "    K, Na = algebraic_equations_kinetics(kinetics_inputs)\n",
    "\n",
    "    # list of the inputs to solve the densities and mass fractions\n",
    "    density_inputs = [cao, cbo, ca, cb, cc, rho_3]\n",
    "    rao, rbo, rho_1, rho_2, ra, rb, rc, rsolvent = algebraic_equations_density(density_inputs)\n",
    "\n",
    "    # calculate tank level\n",
    "    h_inputs = [v]\n",
    "    h, = algebraic_equations_h(h_inputs)\n",
    "\n",
    "    # calculate flow through valves\n",
    "    valve_inputs = [x_v1, x_v2, x_v3, rho_2, rho_3,rhocw, h]    # add density for water as input \n",
    "    F_2, F_3,F_cw, delta_Pv2 = algebraic_equations_valve(valve_inputs)\n",
    "\n",
    "    # calculate the liquid height as experienced by each segment\n",
    "    height_inputs = [h]\n",
    "    h_1, h_2, h_3 = algebraic_equations_section_height(height_inputs)\n",
    "\n",
    "    # calculate the heat transfer rates\n",
    "    heat_transfer_inputs = [h_1, h_2, h_3, Temp, T_cw1, T_cw2, T_cw3]\n",
    "    Q_j1, Q_j2, Q_j3, Q_air1, Q_air2, Q_air3, Q_j_tot= algebraic_equations_heat_transfer(heat_transfer_inputs)\n",
    "\n",
    "    # calculate the measured C concentration\n",
    "    Cc_list[i] = cc\n",
    "    Cc_measured = Cc_with_dead_time(t, Cc_list, tspan,deadtime) \n",
    "    \n"
   ]
  },
  {
   "cell_type": "markdown",
   "metadata": {},
   "source": [
    "After running the euler loop you should have a solution dictionary containing all the information needed to plot anything you want about the system. If you get errors it is recommended that you restart the python kernal and run every cell before asking the lecturer or TA for help. GOOD LUCK!"
   ]
  },
  {
   "cell_type": "code",
   "execution_count": 85,
   "metadata": {
    "collapsed": false
   },
   "outputs": [
    {
     "data": {
      "text/plain": [
       "<matplotlib.text.Text at 0x1ec7838d080>"
      ]
     },
     "execution_count": 85,
     "metadata": {},
     "output_type": "execute_result"
    },
    {
     "data": {
      "image/png": "[encoded data removed]",
      "text/plain": [
       "<matplotlib.figure.Figure at 0x1ec781d0588>"
      ]
     },
     "metadata": {},
     "output_type": "display_data"
    }
   ],
   "source": [
    "# Heres an example of how I would plot things. \n",
    "plot.figure()\n",
    "\n",
    "plot.plot(tspan,solution['Cc'])\n",
    "#plot.plot(tspan,solution[\"Cc_measured\"])\n",
    "plot.title(\"Checking steady state\")\n"
   ]
  },
  {
   "cell_type": "code",
   "execution_count": 86,
   "metadata": {
    "collapsed": false
   },
   "outputs": [],
   "source": [
    "from scipy.signal import lti\n",
    "\n",
    "def FOPDT(var,u,tspan,yo):\n",
    "    \n",
    "    kc,tau,theta = var\n",
    "    G1 = lti([kc],[tau,1])\n",
    "    dt = tspan[1]-tspan[0]\n",
    "    results = numpy.zeros(len(tspan))\n",
    "    yvals = numpy.zeros(len(tspan))\n",
    "    y = yo\n",
    "    x = numpy.zeros([G1.A.shape[0],1])\n",
    "    \n",
    "    for i,t in enumerate(tspan):\n",
    "        yvals[i] = y\n",
    "        t_interp = t - theta\n",
    "        ydelayed = numpy.interp(t_interp, tspan,yvals) \n",
    "        results[i] = ydelayed\n",
    "        dx = G1.A.dot(x) + G1.B.dot(u)\n",
    "        x += dx*dt\n",
    "        y_prime = G1.C.dot(x) +G1.D.dot(u)\n",
    "        y = y_prime[0][0] + yo\n",
    "        \n",
    "    return numpy.array(results)\n",
    "    "
   ]
  },
  {
   "cell_type": "code",
   "execution_count": 87,
   "metadata": {
    "collapsed": false
   },
   "outputs": [],
   "source": [
    "from scipy.optimize import minimize"
   ]
  },
  {
   "cell_type": "code",
   "execution_count": 88,
   "metadata": {
    "collapsed": false
   },
   "outputs": [],
   "source": [
    "def error_func(var,u,t,yo):\n",
    "    kc,tau,theta = var\n",
    "    results = FOPDT(var,u,t,yo)\n",
    "    abs_error = abs(solution['Cc'] - results)\n",
    "    err = sum(abs_error)\n",
    "    return err"
   ]
  },
  {
   "cell_type": "code",
   "execution_count": 89,
   "metadata": {
    "collapsed": false
   },
   "outputs": [
    {
     "data": {
      "text/plain": [
       "20227.749096490083"
      ]
     },
     "execution_count": 89,
     "metadata": {},
     "output_type": "execute_result"
    }
   ],
   "source": [
    "error_func([1,1,1],20,tspan,ss_values['Cc'])"
   ]
  },
  {
   "cell_type": "code",
   "execution_count": 102,
   "metadata": {
    "collapsed": false
   },
   "outputs": [],
   "source": [
    "def run_sim(stepvar):\n",
    "    ################# EXOGENOUS INPUTS ###############################\n",
    "\n",
    "    # Disturbances\n",
    "\n",
    "    def Cao(t):  # Dist\n",
    "        if stepvar == 'Cao':\n",
    "            return 7.4 + 0.2*7.4  # kmol/m^3\n",
    "        else:\n",
    "            return 7.4\n",
    "\n",
    "    def Tbo(t):  # Dist\n",
    "        if stepvar == 'Tbo':\n",
    "            return 24 + 0.2*24\n",
    "        else:\n",
    "            return 24  # degC\n",
    "\n",
    "    def F1(t):  # Dist\n",
    "        if stepvar == 'F1':\n",
    "            return 7.334e-4 + 0.2*7.334e-4\n",
    "        else:\n",
    "            return 7.334e-4  # m^3/s\n",
    "\n",
    "    # MV's\n",
    "\n",
    "    def Ps1(t):\n",
    "        if stepvar == 'Ps1':\n",
    "            return 60 + 20\n",
    "        else:\n",
    "            return 60\n",
    "\n",
    "    def Ps2(t):\n",
    "        if stepvar == 'Ps2':\n",
    "            return 60+20\n",
    "        else:\n",
    "            return 60\n",
    "\n",
    "    def Ps3(t):\n",
    "        if stepvar == 'Ps3':\n",
    "\n",
    "            return 60 +20\n",
    "        else:\n",
    "            return 60\n",
    "    # assumed constant\n",
    "    def Cbo(t):  # Const\n",
    "        return 50  # kmol/m3\n",
    "\n",
    "    def Tcwo(t):\n",
    "        return 29.4  # degc\n",
    "\n",
    "    def Tao(t):  # const\n",
    "        return 24  # degC\n",
    "\n",
    "    ########################### INITIALIZING THE SYSTEM AT STEADY STATE###################\n",
    "\n",
    "    # defining timespan and deadtime \n",
    "    tspan = numpy.linspace(0, 2000, 1000)\n",
    "    dt = tspan[1]-tspan[0]\n",
    "    deadtime = 90\n",
    "\n",
    "    ss_values = steady_state()\n",
    "    ss_values['xv3'] = 0.5\n",
    "    ss_values['F_cw'] = 2.360e-3\n",
    "    # initial steady state values\n",
    "    ca = ss_values['Ca']\n",
    "    cb = ss_values['Cb']\n",
    "    cc = ss_values['Cc']\n",
    "    rho_1 = ss_values['rho1']\n",
    "    rho_2 = ss_values['rho2']\n",
    "    rho_3 = ss_values['rho3']\n",
    "    v = ss_values['V']\n",
    "    Q_j_tot = ss_values['Qj_tot']\n",
    "    Temp = ss_values['T']\n",
    "    Na = ss_values['Na']\n",
    "    F_2 = ss_values['F2']\n",
    "    F_3 = ss_values['F3']\n",
    "    F_cw = ss_values['F_cw']\n",
    "    Z = ss_values['z']\n",
    "    x_v1 = ss_values['xv1']\n",
    "    x_v2 = ss_values['xv2']\n",
    "    x_v3 = ss_values['xv3']\n",
    "    T_cw1 = ss_values['T_cw1']\n",
    "    T_cw2 = ss_values['T_cw2']\n",
    "    T_cw3 = ss_values['T_cw3']\n",
    "    Q_j1 = ss_values['Qj1']\n",
    "    Q_j2 = ss_values['Qj2']\n",
    "    Q_j3 = ss_values['Qj3']\n",
    "    Q_air1 = ss_values['Qair1']\n",
    "    Q_air2 = ss_values['Qair2']\n",
    "    Q_air3 = ss_values['Qair3']\n",
    "    dt = tspan[1] - tspan[0]\n",
    "    rao = ss_values['rao']\n",
    "    rbo = ss_values['rbo']\n",
    "    ra = ss_values['ra']\n",
    "    rb = ss_values['rb']\n",
    "    rc = ss_values['rc']\n",
    "    rsolvent = ss_values['rsolvent']\n",
    "    h_1 = ss_values['h1']\n",
    "    h_2 = ss_values['h2']\n",
    "    h_3 = ss_values['h3']\n",
    "    h = ss_values['H']\n",
    "    delta_Pv2 = ss_values['d_Pv2']\n",
    "    Cc_measured = cc\n",
    "\n",
    "\n",
    "    names = ['F2', 'F3','Fcw', 'Ca', 'Cb', 'Cc', 'Na', 'V', 'rho1', 'rho2', 'rho3', 'z', 'xv1', 'xv2','xv3', 'T', 'Qj_tot', 'T_cw1',\n",
    "         'T_cw2', 'T_cw3', 'Qj1', 'Qj2', 'Qj3', 'Qair1', 'Qair2', 'Qair3', 'rao', 'rbo', 'ra', 'rb', 'rc',\n",
    "         'rsolvent', 'h1', 'h2', 'h3', 'H', 'd_Pv2', 'Cc_measured']\n",
    "\n",
    "    # create the save dictionary\n",
    "\n",
    "    solution = {}\n",
    "\n",
    "    for key in names:\n",
    "        solution[key] = []\n",
    "\n",
    "\n",
    "    # setting up the system for integration and solution storage\n",
    "\n",
    "    Cc_list = numpy.zeros_like(tspan)\n",
    "\n",
    "    ############## LOOPING and euler integration ###########\n",
    "\n",
    "    for i, t in enumerate(tspan):         # we start at t1 not t0 because we have specified all the values to be at steady state at t0\n",
    "\n",
    "        #system inputs (you may want to change one of these to be a controller output)\n",
    "\n",
    "        f1 = F1(t)\n",
    "        cao = Cao(t)\n",
    "        cbo = Cbo(t)\n",
    "        ps1 = Ps1(t)\n",
    "        ps2 = Ps2(t)\n",
    "        ps3 = Ps3(t)\n",
    "        tao = Tao(t)\n",
    "        tbo = Tbo(t)\n",
    "        tcwo = Tcwo(t)\n",
    "\n",
    "        ################# Updating solution dictionary ##############################################################\n",
    "\n",
    "        sol = [F_2, F_3,F_cw, ca, cb, cc, Na, v, rho_1, rho_2, rho_3, Z, x_v1, x_v2,x_v3, Temp,  Q_j_tot, T_cw1, T_cw2, T_cw3,\\\n",
    "               Q_j1, Q_j2, Q_j3, Q_air1, Q_air2, Q_air3, rao, rbo, ra, rb, rc, rsolvent, h_1, h_2, h_3, h, delta_Pv2,Cc_measured]\n",
    "\n",
    "\n",
    "        for j,name in enumerate(names):\n",
    "            solution[name].append(sol[j])\n",
    "\n",
    "\n",
    "        ################################ Add controller here ###################################################     \n",
    "        #     ccsp = Ccsp(t)   # controller set point \n",
    "        #     error = ccsp - Cc_measured     \n",
    "\n",
    "\n",
    "\n",
    "\n",
    "\n",
    "        ################################# SYSTEM DYNAMICS - DO NOT EDIT! ###########################################\n",
    "        # here we calculate the differential and algebraic equations to get the next value for each variable, you are encouraged to read through and \n",
    "        # understand the mechanics of the loop but it is not necessary to edit this section.\n",
    "\n",
    "        diff_eq_inputs = [f1, F_2, F_3,F_cw, cao, cbo, ca, cb, cc, Na, v, rho_1, rho_2, rho_3, Z, x_v1, x_v2,x_v3, ps1,\n",
    "                          ps2,ps3, tao, tbo, Temp,\n",
    "                          Q_j_tot, Q_j1, Q_j2, Q_j3, tcwo, T_cw1, T_cw2, T_cw3, Q_air1, Q_air2, Q_air3]\n",
    "\n",
    "        # calculating differential states and integrating stepwise\n",
    "        deltas = differential_equations(diff_eq_inputs)              # [ dVca_dt, dVCb_dt...]\n",
    "        current_states = [v*ca, v*cb, v*cc, v*rho_3, Z, x_v1, x_v2, x_v3, rho_3*v*Temp, T_cw1, T_cw2, T_cw3]\n",
    "\n",
    "        VCa, VCb, VCc, Vrho3, Z, x_v1, x_v2,x_v3, rho3VT, T_cw1, T_cw2, T_cw3 = [j + deltas[i]*dt for i,j in enumerate(current_states)]  # euler integration step\n",
    "\n",
    "        states_inputs = [VCa, VCb, VCc, Vrho3, rho3VT]              # used to solve for states we are interested in\n",
    "        states_old = [ca, cb, cc, v, rho_3, Temp]                   #initial guesses for fsolve\n",
    "\n",
    "        # newly calculated state variables\n",
    "        ca, cb, cc, v, rho_3, Temp = states(states_inputs, states_old)\n",
    "\n",
    "        # list of the inputs to solve the kinetic parameters\n",
    "        kinetics_inputs = [ca, cb, Temp]\n",
    "        K, Na = algebraic_equations_kinetics(kinetics_inputs)\n",
    "\n",
    "        # list of the inputs to solve the densities and mass fractions\n",
    "        density_inputs = [cao, cbo, ca, cb, cc, rho_3]\n",
    "        rao, rbo, rho_1, rho_2, ra, rb, rc, rsolvent = algebraic_equations_density(density_inputs)\n",
    "\n",
    "        # calculate tank level\n",
    "        h_inputs = [v]\n",
    "        h, = algebraic_equations_h(h_inputs)\n",
    "\n",
    "        # calculate flow through valves\n",
    "        valve_inputs = [x_v1, x_v2, x_v3, rho_2, rho_3,rhocw, h]    # add density for water as input \n",
    "        F_2, F_3,F_cw, delta_Pv2 = algebraic_equations_valve(valve_inputs)\n",
    "\n",
    "        # calculate the liquid height as experienced by each segment\n",
    "        height_inputs = [h]\n",
    "        h_1, h_2, h_3 = algebraic_equations_section_height(height_inputs)\n",
    "\n",
    "        # calculate the heat transfer rates\n",
    "        heat_transfer_inputs = [h_1, h_2, h_3, Temp, T_cw1, T_cw2, T_cw3]\n",
    "        Q_j1, Q_j2, Q_j3, Q_air1, Q_air2, Q_air3, Q_j_tot= algebraic_equations_heat_transfer(heat_transfer_inputs)\n",
    "\n",
    "        # calculate the measured C concentration\n",
    "        Cc_list[i] = cc\n",
    "        Cc_measured = Cc_with_dead_time(t, Cc_list, tspan,deadtime) \n",
    "\n",
    "    \n",
    "    return solution\n"
   ]
  },
  {
   "cell_type": "code",
   "execution_count": 123,
   "metadata": {
    "collapsed": false
   },
   "outputs": [
    {
     "ename": "KeyboardInterrupt",
     "evalue": "",
     "output_type": "error",
     "traceback": [
      "\u001b[0;31m---------------------------------------------------------------------------\u001b[0m",
      "\u001b[0;31mKeyboardInterrupt\u001b[0m                         Traceback (most recent call last)",
      "\u001b[0;32m<ipython-input-123-1a8c301cb39a>\u001b[0m in \u001b[0;36m<module>\u001b[0;34m()\u001b[0m\n\u001b[0;32m----> 1\u001b[0;31m \u001b[0mans\u001b[0m \u001b[1;33m=\u001b[0m \u001b[0mscipy\u001b[0m\u001b[1;33m.\u001b[0m\u001b[0moptimize\u001b[0m\u001b[1;33m.\u001b[0m\u001b[0mminimize\u001b[0m\u001b[1;33m(\u001b[0m\u001b[0merror_func\u001b[0m\u001b[1;33m,\u001b[0m\u001b[1;33m[\u001b[0m\u001b[1;36m0.1\u001b[0m\u001b[1;33m,\u001b[0m\u001b[1;36m100\u001b[0m\u001b[1;33m,\u001b[0m\u001b[1;36m30\u001b[0m\u001b[1;33m]\u001b[0m\u001b[1;33m,\u001b[0m\u001b[0margs\u001b[0m\u001b[1;33m=\u001b[0m\u001b[1;33m(\u001b[0m\u001b[1;36m20\u001b[0m\u001b[1;33m,\u001b[0m\u001b[0mtspan\u001b[0m\u001b[1;33m,\u001b[0m\u001b[0mss_values\u001b[0m\u001b[1;33m[\u001b[0m\u001b[1;34m\"Cc\"\u001b[0m\u001b[1;33m]\u001b[0m\u001b[1;33m)\u001b[0m\u001b[1;33m,\u001b[0m\u001b[0mtol\u001b[0m \u001b[1;33m=\u001b[0m \u001b[1;36m2\u001b[0m\u001b[1;33m)\u001b[0m\u001b[1;33m\u001b[0m\u001b[0m\n\u001b[0m",
      "\u001b[0;32mC:\\Users\\Greg\\AppData\\Local\\Continuum\\Anaconda3\\lib\\site-packages\\scipy\\optimize\\_minimize.py\u001b[0m in \u001b[0;36mminimize\u001b[0;34m(fun, x0, args, method, jac, hess, hessp, bounds, constraints, tol, callback, options)\u001b[0m\n\u001b[1;32m    442\u001b[0m         \u001b[1;32mreturn\u001b[0m \u001b[0m_minimize_cg\u001b[0m\u001b[1;33m(\u001b[0m\u001b[0mfun\u001b[0m\u001b[1;33m,\u001b[0m \u001b[0mx0\u001b[0m\u001b[1;33m,\u001b[0m \u001b[0margs\u001b[0m\u001b[1;33m,\u001b[0m \u001b[0mjac\u001b[0m\u001b[1;33m,\u001b[0m \u001b[0mcallback\u001b[0m\u001b[1;33m,\u001b[0m \u001b[1;33m**\u001b[0m\u001b[0moptions\u001b[0m\u001b[1;33m)\u001b[0m\u001b[1;33m\u001b[0m\u001b[0m\n\u001b[1;32m    443\u001b[0m     \u001b[1;32melif\u001b[0m \u001b[0mmeth\u001b[0m \u001b[1;33m==\u001b[0m \u001b[1;34m'bfgs'\u001b[0m\u001b[1;33m:\u001b[0m\u001b[1;33m\u001b[0m\u001b[0m\n\u001b[0;32m--> 444\u001b[0;31m         \u001b[1;32mreturn\u001b[0m \u001b[0m_minimize_bfgs\u001b[0m\u001b[1;33m(\u001b[0m\u001b[0mfun\u001b[0m\u001b[1;33m,\u001b[0m \u001b[0mx0\u001b[0m\u001b[1;33m,\u001b[0m \u001b[0margs\u001b[0m\u001b[1;33m,\u001b[0m \u001b[0mjac\u001b[0m\u001b[1;33m,\u001b[0m \u001b[0mcallback\u001b[0m\u001b[1;33m,\u001b[0m \u001b[1;33m**\u001b[0m\u001b[0moptions\u001b[0m\u001b[1;33m)\u001b[0m\u001b[1;33m\u001b[0m\u001b[0m\n\u001b[0m\u001b[1;32m    445\u001b[0m     \u001b[1;32melif\u001b[0m \u001b[0mmeth\u001b[0m \u001b[1;33m==\u001b[0m \u001b[1;34m'newton-cg'\u001b[0m\u001b[1;33m:\u001b[0m\u001b[1;33m\u001b[0m\u001b[0m\n\u001b[1;32m    446\u001b[0m         return _minimize_newtoncg(fun, x0, args, jac, hess, hessp, callback,\n",
      "\u001b[0;32mC:\\Users\\Greg\\AppData\\Local\\Continuum\\Anaconda3\\lib\\site-packages\\scipy\\optimize\\optimize.py\u001b[0m in \u001b[0;36m_minimize_bfgs\u001b[0;34m(fun, x0, args, jac, callback, gtol, norm, eps, maxiter, disp, return_all, **unknown_options)\u001b[0m\n\u001b[1;32m    932\u001b[0m             \u001b[0malpha_k\u001b[0m\u001b[1;33m,\u001b[0m \u001b[0mfc\u001b[0m\u001b[1;33m,\u001b[0m \u001b[0mgc\u001b[0m\u001b[1;33m,\u001b[0m \u001b[0mold_fval\u001b[0m\u001b[1;33m,\u001b[0m \u001b[0mold_old_fval\u001b[0m\u001b[1;33m,\u001b[0m \u001b[0mgfkp1\u001b[0m \u001b[1;33m=\u001b[0m\u001b[0;31m \u001b[0m\u001b[0;31m\\\u001b[0m\u001b[1;33m\u001b[0m\u001b[0m\n\u001b[1;32m    933\u001b[0m                      _line_search_wolfe12(f, myfprime, xk, pk, gfk,\n\u001b[0;32m--> 934\u001b[0;31m                                           old_fval, old_old_fval, amin=1e-100, amax=1e100)\n\u001b[0m\u001b[1;32m    935\u001b[0m         \u001b[1;32mexcept\u001b[0m \u001b[0m_LineSearchError\u001b[0m\u001b[1;33m:\u001b[0m\u001b[1;33m\u001b[0m\u001b[0m\n\u001b[1;32m    936\u001b[0m             \u001b[1;31m# Line search failed to find a better solution.\u001b[0m\u001b[1;33m\u001b[0m\u001b[1;33m\u001b[0m\u001b[0m\n",
      "\u001b[0;32mC:\\Users\\Greg\\AppData\\Local\\Continuum\\Anaconda3\\lib\\site-packages\\scipy\\optimize\\optimize.py\u001b[0m in \u001b[0;36m_line_search_wolfe12\u001b[0;34m(f, fprime, xk, pk, gfk, old_fval, old_old_fval, **kwargs)\u001b[0m\n\u001b[1;32m    763\u001b[0m     ret = line_search_wolfe1(f, fprime, xk, pk, gfk,\n\u001b[1;32m    764\u001b[0m                              \u001b[0mold_fval\u001b[0m\u001b[1;33m,\u001b[0m \u001b[0mold_old_fval\u001b[0m\u001b[1;33m,\u001b[0m\u001b[1;33m\u001b[0m\u001b[0m\n\u001b[0;32m--> 765\u001b[0;31m                              **kwargs)\n\u001b[0m\u001b[1;32m    766\u001b[0m \u001b[1;33m\u001b[0m\u001b[0m\n\u001b[1;32m    767\u001b[0m     \u001b[1;32mif\u001b[0m \u001b[0mret\u001b[0m\u001b[1;33m[\u001b[0m\u001b[1;36m0\u001b[0m\u001b[1;33m]\u001b[0m \u001b[1;32mis\u001b[0m \u001b[1;32mNone\u001b[0m\u001b[1;33m:\u001b[0m\u001b[1;33m\u001b[0m\u001b[0m\n",
      "\u001b[0;32mC:\\Users\\Greg\\AppData\\Local\\Continuum\\Anaconda3\\lib\\site-packages\\scipy\\optimize\\linesearch.py\u001b[0m in \u001b[0;36mline_search_wolfe1\u001b[0;34m(f, fprime, xk, pk, gfk, old_fval, old_old_fval, args, c1, c2, amax, amin, xtol)\u001b[0m\n\u001b[1;32m     99\u001b[0m     stp, fval, old_fval = scalar_search_wolfe1(\n\u001b[1;32m    100\u001b[0m             \u001b[0mphi\u001b[0m\u001b[1;33m,\u001b[0m \u001b[0mderphi\u001b[0m\u001b[1;33m,\u001b[0m \u001b[0mold_fval\u001b[0m\u001b[1;33m,\u001b[0m \u001b[0mold_old_fval\u001b[0m\u001b[1;33m,\u001b[0m \u001b[0mderphi0\u001b[0m\u001b[1;33m,\u001b[0m\u001b[1;33m\u001b[0m\u001b[0m\n\u001b[0;32m--> 101\u001b[0;31m             c1=c1, c2=c2, amax=amax, amin=amin, xtol=xtol)\n\u001b[0m\u001b[1;32m    102\u001b[0m \u001b[1;33m\u001b[0m\u001b[0m\n\u001b[1;32m    103\u001b[0m     \u001b[1;32mreturn\u001b[0m \u001b[0mstp\u001b[0m\u001b[1;33m,\u001b[0m \u001b[0mfc\u001b[0m\u001b[1;33m[\u001b[0m\u001b[1;36m0\u001b[0m\u001b[1;33m]\u001b[0m\u001b[1;33m,\u001b[0m \u001b[0mgc\u001b[0m\u001b[1;33m[\u001b[0m\u001b[1;36m0\u001b[0m\u001b[1;33m]\u001b[0m\u001b[1;33m,\u001b[0m \u001b[0mfval\u001b[0m\u001b[1;33m,\u001b[0m \u001b[0mold_fval\u001b[0m\u001b[1;33m,\u001b[0m \u001b[0mgval\u001b[0m\u001b[1;33m[\u001b[0m\u001b[1;36m0\u001b[0m\u001b[1;33m]\u001b[0m\u001b[1;33m\u001b[0m\u001b[0m\n",
      "\u001b[0;32mC:\\Users\\Greg\\AppData\\Local\\Continuum\\Anaconda3\\lib\\site-packages\\scipy\\optimize\\linesearch.py\u001b[0m in \u001b[0;36mscalar_search_wolfe1\u001b[0;34m(phi, derphi, phi0, old_phi0, derphi0, c1, c2, amax, amin, xtol)\u001b[0m\n\u001b[1;32m    173\u001b[0m             \u001b[0malpha1\u001b[0m \u001b[1;33m=\u001b[0m \u001b[0mstp\u001b[0m\u001b[1;33m\u001b[0m\u001b[0m\n\u001b[1;32m    174\u001b[0m             \u001b[0mphi1\u001b[0m \u001b[1;33m=\u001b[0m \u001b[0mphi\u001b[0m\u001b[1;33m(\u001b[0m\u001b[0mstp\u001b[0m\u001b[1;33m)\u001b[0m\u001b[1;33m\u001b[0m\u001b[0m\n\u001b[0;32m--> 175\u001b[0;31m             \u001b[0mderphi1\u001b[0m \u001b[1;33m=\u001b[0m \u001b[0mderphi\u001b[0m\u001b[1;33m(\u001b[0m\u001b[0mstp\u001b[0m\u001b[1;33m)\u001b[0m\u001b[1;33m\u001b[0m\u001b[0m\n\u001b[0m\u001b[1;32m    176\u001b[0m         \u001b[1;32melse\u001b[0m\u001b[1;33m:\u001b[0m\u001b[1;33m\u001b[0m\u001b[0m\n\u001b[1;32m    177\u001b[0m             \u001b[1;32mbreak\u001b[0m\u001b[1;33m\u001b[0m\u001b[0m\n",
      "\u001b[0;32mC:\\Users\\Greg\\AppData\\Local\\Continuum\\Anaconda3\\lib\\site-packages\\scipy\\optimize\\linesearch.py\u001b[0m in \u001b[0;36mderphi\u001b[0;34m(s)\u001b[0m\n\u001b[1;32m     88\u001b[0m \u001b[1;33m\u001b[0m\u001b[0m\n\u001b[1;32m     89\u001b[0m     \u001b[1;32mdef\u001b[0m \u001b[0mderphi\u001b[0m\u001b[1;33m(\u001b[0m\u001b[0ms\u001b[0m\u001b[1;33m)\u001b[0m\u001b[1;33m:\u001b[0m\u001b[1;33m\u001b[0m\u001b[0m\n\u001b[0;32m---> 90\u001b[0;31m         \u001b[0mgval\u001b[0m\u001b[1;33m[\u001b[0m\u001b[1;36m0\u001b[0m\u001b[1;33m]\u001b[0m \u001b[1;33m=\u001b[0m \u001b[0mfprime\u001b[0m\u001b[1;33m(\u001b[0m\u001b[0mxk\u001b[0m \u001b[1;33m+\u001b[0m \u001b[0ms\u001b[0m\u001b[1;33m*\u001b[0m\u001b[0mpk\u001b[0m\u001b[1;33m,\u001b[0m \u001b[1;33m*\u001b[0m\u001b[0mnewargs\u001b[0m\u001b[1;33m)\u001b[0m\u001b[1;33m\u001b[0m\u001b[0m\n\u001b[0m\u001b[1;32m     91\u001b[0m         \u001b[1;32mif\u001b[0m \u001b[0mgradient\u001b[0m\u001b[1;33m:\u001b[0m\u001b[1;33m\u001b[0m\u001b[0m\n\u001b[1;32m     92\u001b[0m             \u001b[0mgc\u001b[0m\u001b[1;33m[\u001b[0m\u001b[1;36m0\u001b[0m\u001b[1;33m]\u001b[0m \u001b[1;33m+=\u001b[0m \u001b[1;36m1\u001b[0m\u001b[1;33m\u001b[0m\u001b[0m\n",
      "\u001b[0;32mC:\\Users\\Greg\\AppData\\Local\\Continuum\\Anaconda3\\lib\\site-packages\\scipy\\optimize\\optimize.py\u001b[0m in \u001b[0;36mfunction_wrapper\u001b[0;34m(*wrapper_args)\u001b[0m\n\u001b[1;32m    290\u001b[0m     \u001b[1;32mdef\u001b[0m \u001b[0mfunction_wrapper\u001b[0m\u001b[1;33m(\u001b[0m\u001b[1;33m*\u001b[0m\u001b[0mwrapper_args\u001b[0m\u001b[1;33m)\u001b[0m\u001b[1;33m:\u001b[0m\u001b[1;33m\u001b[0m\u001b[0m\n\u001b[1;32m    291\u001b[0m         \u001b[0mncalls\u001b[0m\u001b[1;33m[\u001b[0m\u001b[1;36m0\u001b[0m\u001b[1;33m]\u001b[0m \u001b[1;33m+=\u001b[0m \u001b[1;36m1\u001b[0m\u001b[1;33m\u001b[0m\u001b[0m\n\u001b[0;32m--> 292\u001b[0;31m         \u001b[1;32mreturn\u001b[0m \u001b[0mfunction\u001b[0m\u001b[1;33m(\u001b[0m\u001b[1;33m*\u001b[0m\u001b[1;33m(\u001b[0m\u001b[0mwrapper_args\u001b[0m \u001b[1;33m+\u001b[0m \u001b[0margs\u001b[0m\u001b[1;33m)\u001b[0m\u001b[1;33m)\u001b[0m\u001b[1;33m\u001b[0m\u001b[0m\n\u001b[0m\u001b[1;32m    293\u001b[0m \u001b[1;33m\u001b[0m\u001b[0m\n\u001b[1;32m    294\u001b[0m     \u001b[1;32mreturn\u001b[0m \u001b[0mncalls\u001b[0m\u001b[1;33m,\u001b[0m \u001b[0mfunction_wrapper\u001b[0m\u001b[1;33m\u001b[0m\u001b[0m\n",
      "\u001b[0;32mC:\\Users\\Greg\\AppData\\Local\\Continuum\\Anaconda3\\lib\\site-packages\\scipy\\optimize\\optimize.py\u001b[0m in \u001b[0;36mapprox_fprime\u001b[0;34m(xk, f, epsilon, *args)\u001b[0m\n\u001b[1;32m    686\u001b[0m \u001b[1;33m\u001b[0m\u001b[0m\n\u001b[1;32m    687\u001b[0m     \"\"\"\n\u001b[0;32m--> 688\u001b[0;31m     \u001b[1;32mreturn\u001b[0m \u001b[0m_approx_fprime_helper\u001b[0m\u001b[1;33m(\u001b[0m\u001b[0mxk\u001b[0m\u001b[1;33m,\u001b[0m \u001b[0mf\u001b[0m\u001b[1;33m,\u001b[0m \u001b[0mepsilon\u001b[0m\u001b[1;33m,\u001b[0m \u001b[0margs\u001b[0m\u001b[1;33m=\u001b[0m\u001b[0margs\u001b[0m\u001b[1;33m)\u001b[0m\u001b[1;33m\u001b[0m\u001b[0m\n\u001b[0m\u001b[1;32m    689\u001b[0m \u001b[1;33m\u001b[0m\u001b[0m\n\u001b[1;32m    690\u001b[0m \u001b[1;33m\u001b[0m\u001b[0m\n",
      "\u001b[0;32mC:\\Users\\Greg\\AppData\\Local\\Continuum\\Anaconda3\\lib\\site-packages\\scipy\\optimize\\optimize.py\u001b[0m in \u001b[0;36m_approx_fprime_helper\u001b[0;34m(xk, f, epsilon, args, f0)\u001b[0m\n\u001b[1;32m    626\u001b[0m         \u001b[0mei\u001b[0m\u001b[1;33m[\u001b[0m\u001b[0mk\u001b[0m\u001b[1;33m]\u001b[0m \u001b[1;33m=\u001b[0m \u001b[1;36m1.0\u001b[0m\u001b[1;33m\u001b[0m\u001b[0m\n\u001b[1;32m    627\u001b[0m         \u001b[0md\u001b[0m \u001b[1;33m=\u001b[0m \u001b[0mepsilon\u001b[0m \u001b[1;33m*\u001b[0m \u001b[0mei\u001b[0m\u001b[1;33m\u001b[0m\u001b[0m\n\u001b[0;32m--> 628\u001b[0;31m         \u001b[0mgrad\u001b[0m\u001b[1;33m[\u001b[0m\u001b[0mk\u001b[0m\u001b[1;33m]\u001b[0m \u001b[1;33m=\u001b[0m \u001b[1;33m(\u001b[0m\u001b[0mf\u001b[0m\u001b[1;33m(\u001b[0m\u001b[1;33m*\u001b[0m\u001b[1;33m(\u001b[0m\u001b[1;33m(\u001b[0m\u001b[0mxk\u001b[0m \u001b[1;33m+\u001b[0m \u001b[0md\u001b[0m\u001b[1;33m,\u001b[0m\u001b[1;33m)\u001b[0m \u001b[1;33m+\u001b[0m \u001b[0margs\u001b[0m\u001b[1;33m)\u001b[0m\u001b[1;33m)\u001b[0m \u001b[1;33m-\u001b[0m \u001b[0mf0\u001b[0m\u001b[1;33m)\u001b[0m \u001b[1;33m/\u001b[0m \u001b[0md\u001b[0m\u001b[1;33m[\u001b[0m\u001b[0mk\u001b[0m\u001b[1;33m]\u001b[0m\u001b[1;33m\u001b[0m\u001b[0m\n\u001b[0m\u001b[1;32m    629\u001b[0m         \u001b[0mei\u001b[0m\u001b[1;33m[\u001b[0m\u001b[0mk\u001b[0m\u001b[1;33m]\u001b[0m \u001b[1;33m=\u001b[0m \u001b[1;36m0.0\u001b[0m\u001b[1;33m\u001b[0m\u001b[0m\n\u001b[1;32m    630\u001b[0m     \u001b[1;32mreturn\u001b[0m \u001b[0mgrad\u001b[0m\u001b[1;33m\u001b[0m\u001b[0m\n",
      "\u001b[0;32mC:\\Users\\Greg\\AppData\\Local\\Continuum\\Anaconda3\\lib\\site-packages\\scipy\\optimize\\optimize.py\u001b[0m in \u001b[0;36mfunction_wrapper\u001b[0;34m(*wrapper_args)\u001b[0m\n\u001b[1;32m    290\u001b[0m     \u001b[1;32mdef\u001b[0m \u001b[0mfunction_wrapper\u001b[0m\u001b[1;33m(\u001b[0m\u001b[1;33m*\u001b[0m\u001b[0mwrapper_args\u001b[0m\u001b[1;33m)\u001b[0m\u001b[1;33m:\u001b[0m\u001b[1;33m\u001b[0m\u001b[0m\n\u001b[1;32m    291\u001b[0m         \u001b[0mncalls\u001b[0m\u001b[1;33m[\u001b[0m\u001b[1;36m0\u001b[0m\u001b[1;33m]\u001b[0m \u001b[1;33m+=\u001b[0m \u001b[1;36m1\u001b[0m\u001b[1;33m\u001b[0m\u001b[0m\n\u001b[0;32m--> 292\u001b[0;31m         \u001b[1;32mreturn\u001b[0m \u001b[0mfunction\u001b[0m\u001b[1;33m(\u001b[0m\u001b[1;33m*\u001b[0m\u001b[1;33m(\u001b[0m\u001b[0mwrapper_args\u001b[0m \u001b[1;33m+\u001b[0m \u001b[0margs\u001b[0m\u001b[1;33m)\u001b[0m\u001b[1;33m)\u001b[0m\u001b[1;33m\u001b[0m\u001b[0m\n\u001b[0m\u001b[1;32m    293\u001b[0m \u001b[1;33m\u001b[0m\u001b[0m\n\u001b[1;32m    294\u001b[0m     \u001b[1;32mreturn\u001b[0m \u001b[0mncalls\u001b[0m\u001b[1;33m,\u001b[0m \u001b[0mfunction_wrapper\u001b[0m\u001b[1;33m\u001b[0m\u001b[0m\n",
      "\u001b[0;32m<ipython-input-88-012890f8eddf>\u001b[0m in \u001b[0;36merror_func\u001b[0;34m(var, u, t, yo)\u001b[0m\n\u001b[1;32m      1\u001b[0m \u001b[1;32mdef\u001b[0m \u001b[0merror_func\u001b[0m\u001b[1;33m(\u001b[0m\u001b[0mvar\u001b[0m\u001b[1;33m,\u001b[0m\u001b[0mu\u001b[0m\u001b[1;33m,\u001b[0m\u001b[0mt\u001b[0m\u001b[1;33m,\u001b[0m\u001b[0myo\u001b[0m\u001b[1;33m)\u001b[0m\u001b[1;33m:\u001b[0m\u001b[1;33m\u001b[0m\u001b[0m\n\u001b[1;32m      2\u001b[0m     \u001b[0mkc\u001b[0m\u001b[1;33m,\u001b[0m\u001b[0mtau\u001b[0m\u001b[1;33m,\u001b[0m\u001b[0mtheta\u001b[0m \u001b[1;33m=\u001b[0m \u001b[0mvar\u001b[0m\u001b[1;33m\u001b[0m\u001b[0m\n\u001b[0;32m----> 3\u001b[0;31m     \u001b[0mresults\u001b[0m \u001b[1;33m=\u001b[0m \u001b[0mFOPDT\u001b[0m\u001b[1;33m(\u001b[0m\u001b[0mvar\u001b[0m\u001b[1;33m,\u001b[0m\u001b[0mu\u001b[0m\u001b[1;33m,\u001b[0m\u001b[0mt\u001b[0m\u001b[1;33m,\u001b[0m\u001b[0myo\u001b[0m\u001b[1;33m)\u001b[0m\u001b[1;33m\u001b[0m\u001b[0m\n\u001b[0m\u001b[1;32m      4\u001b[0m     \u001b[0mabs_error\u001b[0m \u001b[1;33m=\u001b[0m \u001b[0mabs\u001b[0m\u001b[1;33m(\u001b[0m\u001b[0msolution\u001b[0m\u001b[1;33m[\u001b[0m\u001b[1;34m'Cc'\u001b[0m\u001b[1;33m]\u001b[0m \u001b[1;33m-\u001b[0m \u001b[0mresults\u001b[0m\u001b[1;33m)\u001b[0m\u001b[1;33m\u001b[0m\u001b[0m\n\u001b[1;32m      5\u001b[0m     \u001b[0merr\u001b[0m \u001b[1;33m=\u001b[0m \u001b[0msum\u001b[0m\u001b[1;33m(\u001b[0m\u001b[0mabs_error\u001b[0m\u001b[1;33m)\u001b[0m\u001b[1;33m\u001b[0m\u001b[0m\n",
      "\u001b[0;32m<ipython-input-86-bc3ead05bfd4>\u001b[0m in \u001b[0;36mFOPDT\u001b[0;34m(var, u, tspan, yo)\u001b[0m\n\u001b[1;32m     14\u001b[0m         \u001b[0mydelayed\u001b[0m \u001b[1;33m=\u001b[0m \u001b[0mnumpy\u001b[0m\u001b[1;33m.\u001b[0m\u001b[0minterp\u001b[0m\u001b[1;33m(\u001b[0m\u001b[0mt_interp\u001b[0m\u001b[1;33m,\u001b[0m \u001b[0mtspan\u001b[0m\u001b[1;33m,\u001b[0m\u001b[0myvals\u001b[0m\u001b[1;33m)\u001b[0m\u001b[1;33m\u001b[0m\u001b[0m\n\u001b[1;32m     15\u001b[0m         \u001b[0mresults\u001b[0m\u001b[1;33m[\u001b[0m\u001b[0mi\u001b[0m\u001b[1;33m]\u001b[0m \u001b[1;33m=\u001b[0m \u001b[0mydelayed\u001b[0m\u001b[1;33m\u001b[0m\u001b[0m\n\u001b[0;32m---> 16\u001b[0;31m         \u001b[0mdx\u001b[0m \u001b[1;33m=\u001b[0m \u001b[0mG1\u001b[0m\u001b[1;33m.\u001b[0m\u001b[0mA\u001b[0m\u001b[1;33m.\u001b[0m\u001b[0mdot\u001b[0m\u001b[1;33m(\u001b[0m\u001b[0mx\u001b[0m\u001b[1;33m)\u001b[0m \u001b[1;33m+\u001b[0m \u001b[0mG1\u001b[0m\u001b[1;33m.\u001b[0m\u001b[0mB\u001b[0m\u001b[1;33m.\u001b[0m\u001b[0mdot\u001b[0m\u001b[1;33m(\u001b[0m\u001b[0mu\u001b[0m\u001b[1;33m)\u001b[0m\u001b[1;33m\u001b[0m\u001b[0m\n\u001b[0m\u001b[1;32m     17\u001b[0m         \u001b[0mx\u001b[0m \u001b[1;33m+=\u001b[0m \u001b[0mdx\u001b[0m\u001b[1;33m*\u001b[0m\u001b[0mdt\u001b[0m\u001b[1;33m\u001b[0m\u001b[0m\n\u001b[1;32m     18\u001b[0m         \u001b[0my_prime\u001b[0m \u001b[1;33m=\u001b[0m \u001b[0mG1\u001b[0m\u001b[1;33m.\u001b[0m\u001b[0mC\u001b[0m\u001b[1;33m.\u001b[0m\u001b[0mdot\u001b[0m\u001b[1;33m(\u001b[0m\u001b[0mx\u001b[0m\u001b[1;33m)\u001b[0m \u001b[1;33m+\u001b[0m\u001b[0mG1\u001b[0m\u001b[1;33m.\u001b[0m\u001b[0mD\u001b[0m\u001b[1;33m.\u001b[0m\u001b[0mdot\u001b[0m\u001b[1;33m(\u001b[0m\u001b[0mu\u001b[0m\u001b[1;33m)\u001b[0m\u001b[1;33m\u001b[0m\u001b[0m\n",
      "\u001b[0;32mC:\\Users\\Greg\\AppData\\Local\\Continuum\\Anaconda3\\lib\\site-packages\\scipy\\signal\\ltisys.py\u001b[0m in \u001b[0;36mB\u001b[0;34m(self)\u001b[0m\n\u001b[1;32m    205\u001b[0m                       \u001b[1;34m'scipy. Please use `sys.to_ss().B`instead.'\u001b[0m\u001b[1;33m,\u001b[0m\u001b[1;33m\u001b[0m\u001b[0m\n\u001b[1;32m    206\u001b[0m                       DeprecationWarning)\n\u001b[0;32m--> 207\u001b[0;31m         \u001b[1;32mreturn\u001b[0m \u001b[0mself\u001b[0m\u001b[1;33m.\u001b[0m\u001b[0mto_ss\u001b[0m\u001b[1;33m(\u001b[0m\u001b[1;33m)\u001b[0m\u001b[1;33m.\u001b[0m\u001b[0mB\u001b[0m\u001b[1;33m\u001b[0m\u001b[0m\n\u001b[0m\u001b[1;32m    208\u001b[0m \u001b[1;33m\u001b[0m\u001b[0m\n\u001b[1;32m    209\u001b[0m     \u001b[1;33m@\u001b[0m\u001b[0mB\u001b[0m\u001b[1;33m.\u001b[0m\u001b[0msetter\u001b[0m\u001b[1;33m\u001b[0m\u001b[0m\n",
      "\u001b[0;32mC:\\Users\\Greg\\AppData\\Local\\Continuum\\Anaconda3\\lib\\site-packages\\scipy\\signal\\ltisys.py\u001b[0m in \u001b[0;36mto_ss\u001b[0;34m(self)\u001b[0m\n\u001b[1;32m    843\u001b[0m \u001b[1;33m\u001b[0m\u001b[0m\n\u001b[1;32m    844\u001b[0m         \"\"\"\n\u001b[0;32m--> 845\u001b[0;31m         return StateSpace(*tf2ss(self.num, self.den),\n\u001b[0m\u001b[1;32m    846\u001b[0m                           **self._dt_dict)\n\u001b[1;32m    847\u001b[0m \u001b[1;33m\u001b[0m\u001b[0m\n",
      "\u001b[0;32mC:\\Users\\Greg\\AppData\\Local\\Continuum\\Anaconda3\\lib\\site-packages\\scipy\\signal\\lti_conversion.py\u001b[0m in \u001b[0;36mtf2ss\u001b[0;34m(num, den)\u001b[0m\n\u001b[1;32m    106\u001b[0m                 zeros((D.shape[0], 1)), D)\n\u001b[1;32m    107\u001b[0m \u001b[1;33m\u001b[0m\u001b[0m\n\u001b[0;32m--> 108\u001b[0;31m     \u001b[0mfrow\u001b[0m \u001b[1;33m=\u001b[0m \u001b[1;33m-\u001b[0m\u001b[0marray\u001b[0m\u001b[1;33m(\u001b[0m\u001b[1;33m[\u001b[0m\u001b[0mden\u001b[0m\u001b[1;33m[\u001b[0m\u001b[1;36m1\u001b[0m\u001b[1;33m:\u001b[0m\u001b[1;33m]\u001b[0m\u001b[1;33m]\u001b[0m\u001b[1;33m)\u001b[0m\u001b[1;33m\u001b[0m\u001b[0m\n\u001b[0m\u001b[1;32m    109\u001b[0m     \u001b[0mA\u001b[0m \u001b[1;33m=\u001b[0m \u001b[0mr_\u001b[0m\u001b[1;33m[\u001b[0m\u001b[0mfrow\u001b[0m\u001b[1;33m,\u001b[0m \u001b[0meye\u001b[0m\u001b[1;33m(\u001b[0m\u001b[0mK\u001b[0m \u001b[1;33m-\u001b[0m \u001b[1;36m2\u001b[0m\u001b[1;33m,\u001b[0m \u001b[0mK\u001b[0m \u001b[1;33m-\u001b[0m \u001b[1;36m1\u001b[0m\u001b[1;33m)\u001b[0m\u001b[1;33m]\u001b[0m\u001b[1;33m\u001b[0m\u001b[0m\n\u001b[1;32m    110\u001b[0m     \u001b[0mB\u001b[0m \u001b[1;33m=\u001b[0m \u001b[0meye\u001b[0m\u001b[1;33m(\u001b[0m\u001b[0mK\u001b[0m \u001b[1;33m-\u001b[0m \u001b[1;36m1\u001b[0m\u001b[1;33m,\u001b[0m \u001b[1;36m1\u001b[0m\u001b[1;33m)\u001b[0m\u001b[1;33m\u001b[0m\u001b[0m\n",
      "\u001b[0;31mKeyboardInterrupt\u001b[0m: "
     ]
    }
   ],
   "source": [
    "ans = scipy.optimize.minimize(error_func,[0.1,100,30],args=(20,tspan,ss_values[\"Cc\"]),tol = 2)"
   ]
  },
  {
   "cell_type": "code",
   "execution_count": 120,
   "metadata": {
    "collapsed": false
   },
   "outputs": [
    {
     "data": {
      "text/plain": [
       "1.1716496810695827"
      ]
     },
     "execution_count": 120,
     "metadata": {},
     "output_type": "execute_result"
    }
   ],
   "source": [
    "ans.fun"
   ]
  },
  {
   "cell_type": "code",
   "execution_count": 100,
   "metadata": {
    "collapsed": false
   },
   "outputs": [
    {
     "data": {
      "text/plain": [
       "[<matplotlib.lines.Line2D at 0x1ec7853fb70>]"
      ]
     },
     "execution_count": 100,
     "metadata": {},
     "output_type": "execute_result"
    },
    {
     "data": {
      "image/png": "[encoded data removed]",
      "text/plain": [
       "<matplotlib.figure.Figure at 0x1ec7853f438>"
      ]
     },
     "metadata": {},
     "output_type": "display_data"
    }
   ],
   "source": [
    "plot.plot(tspan,solution[\"Cc\"])\n",
    "plot.plot(tspan,FOPDT(ans.x,20,tspan,ss_values['Cc']))"
   ]
  },
  {
   "cell_type": "code",
   "execution_count": 105,
   "metadata": {
    "collapsed": false
   },
   "outputs": [
    {
     "data": {
      "text/plain": [
       "[<matplotlib.lines.Line2D at 0x1ec78744278>]"
      ]
     },
     "execution_count": 105,
     "metadata": {},
     "output_type": "execute_result"
    },
    {
     "data": {
      "image/png": "[encoded data removed]",
      "text/plain": [
       "<matplotlib.figure.Figure at 0x1ec785ee9b0>"
      ]
     },
     "metadata": {},
     "output_type": "display_data"
    }
   ],
   "source": [
    "plot.plot(tspan,run_sim('Ps2')['T'])"
   ]
  },
  {
   "cell_type": "code",
   "execution_count": 112,
   "metadata": {
    "collapsed": false
   },
   "outputs": [
    {
     "data": {
      "text/plain": [
       "2"
      ]
     },
     "execution_count": 112,
     "metadata": {},
     "output_type": "execute_result"
    }
   ],
   "source": [
    "sum(numpy.array([1,2,3]) - numpy.array([1,2,1]))"
   ]
  },
  {
   "cell_type": "code",
   "execution_count": 116,
   "metadata": {
    "collapsed": false
   },
   "outputs": [
    {
     "data": {
      "text/plain": [
       "array([[ 0.,  0.],\n",
       "       [ 0.,  0.]])"
      ]
     },
     "execution_count": 116,
     "metadata": {},
     "output_type": "execute_result"
    }
   ],
   "source": [
    "numpy.zeros([2,2])"
   ]
  },
  {
   "cell_type": "code",
   "execution_count": 122,
   "metadata": {
    "collapsed": false
   },
   "outputs": [],
   "source": [
    "scipy.optimize.minimize?"
   ]
  },
  {
   "cell_type": "code",
   "execution_count": null,
   "metadata": {
    "collapsed": true
   },
   "outputs": [],
   "source": []
  }
 ],
 "metadata": {
  "anaconda-cloud": {},
  "kernelspec": {
   "display_name": "Python 3",
   "language": "python",
   "name": "python3"
  },
  "language_info": {
   "codemirror_mode": {
    "name": "ipython",
    "version": 3
   },
   "file_extension": ".py",
   "mimetype": "text/x-python",
   "name": "python",
   "nbconvert_exporter": "python",
   "pygments_lexer": "ipython3",
   "version": "3.6.0"
  }
 },
 "nbformat": 4,
 "nbformat_minor": 2
}
