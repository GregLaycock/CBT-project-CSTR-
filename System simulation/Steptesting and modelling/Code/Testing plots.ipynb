{
 "cells": [
  {
   "cell_type": "code",
   "execution_count": 1,
   "metadata": {
    "collapsed": false
   },
   "outputs": [],
   "source": [
    "import csv\n",
    "import Fitting_curves\n",
    "from matplotlib import pyplot as plot\n",
    "import numpy\n",
    "from numpy import array\n",
    "\n",
    "from Stepping_all import run_sim,get_results\n",
    "import Fitting_module \n",
    "import Fitting_curves\n",
    "from Fitting_curves import run_all_fits,get_initials,get_type\n",
    "from Stepping_all import *\n",
    "from Fitting_module import *\n",
    "from steady_state_values import steady_state\n",
    "import numpy\n",
    "import scipy.optimize\n"
   ]
  },
  {
   "cell_type": "code",
   "execution_count": 2,
   "metadata": {
    "collapsed": false
   },
   "outputs": [],
   "source": [
    "tspan = numpy.linspace(0, 2000, 1000)\n",
    "stepped_vars = Fitting_curves.stepped_var\n",
    "output_vars = ['Cc_measured','T','H','Cc_measured','T','H','Cc_measured','T','H','Cc_measured','T','H','Cc_measured','T','H','Cc_measured','T','H']\n",
    "data = Fitting_curves.data\n",
    "types = Fitting_curves.fit_types\n",
    "u_vals = [20,20,20,20,20,20,20,20,20,0.2*7.4,0.2*7.4,0.2*7.4,0.2*24,0.2*24,0.2*24,0.2*7.334e-4,0.2*7.334e-4,0.2*7.334e-4]\n",
    "yo_vals = Fitting_curves.yo_vals\n",
    "simdata = get_results()\n",
    "stepped_vars = ['Ps1','Ps2','Ps3','Cao','Tbo','F1']\n",
    "outputs = ['Cc_measured', 'T', 'H']\n",
    "names = []\n",
    "for i, input in enumerate(stepped_vars):\n",
    "    for j, output in enumerate(outputs):\n",
    "        names.append(str(input) + str(output))\n",
    "        \n",
    "ss_values = steady_state()\n",
    "ccss = ss_values['Cc']\n",
    "tss = ss_values['T']\n",
    "hss = ss_values['H']\n",
    "\n",
    "        \n",
    "data_sets = [data[key] for key in names]\n",
    "fit_types = [get_type(name) for name in names]\n",
    "yo_vals = [ccss,tss,hss,ccss,tss,hss,ccss,tss,hss,ccss,tss,hss,ccss,tss,hss,ccss,tss,hss]\n",
    "initials = get_initials(fit_types)\n",
    "u_vals = [20,20,20,20,20,20,20,20,20,0.2*7.4,0.2*7.4,0.2*7.4,0.2*24,0.2*24,0.2*24,0.2*7.334e-4,0.2*7.334e-4,0.2*7.334e-4]"
   ]
  },
  {
   "cell_type": "code",
   "execution_count": 3,
   "metadata": {
    "collapsed": false
   },
   "outputs": [],
   "source": [
    "results = {'fit': ['Ps1Cc_measured',\n",
    "  'Ps1T',\n",
    "  'Ps1H',\n",
    "  'Ps2Cc_measured',\n",
    "  'Ps2T',\n",
    "  'Ps2H',\n",
    "  'Ps3Cc_measured',\n",
    "  'Ps3T',\n",
    "  'Ps3H',\n",
    "  'CaoCc_measured',\n",
    "  'CaoT',\n",
    "  'CaoH',\n",
    "  'TboCc_measured',\n",
    "  'TboT',\n",
    "  'TboH',\n",
    "  'F1Cc_measured',\n",
    "  'F1T',\n",
    "  'F1H'],\n",
    " 'initial': [[0.1, 100, 50],\n",
    "  [0.1, 100, 50],\n",
    "  [0.1, 100, 50],\n",
    "  [-1, 0.5, 100, 100, 50],\n",
    "  [-1, 0.5, 100, 100, 50],\n",
    "  [0.1, 100, 50],\n",
    "  [0.1, 100, 100, 50],\n",
    "  [0.1, 100, 100, 50],\n",
    "  [0.1, 100, 50],\n",
    "  [0.1, 100, 50],\n",
    "  [0.1, 100, 50],\n",
    "  [0.1, 100, 50],\n",
    "  [0.1, 100, 50],\n",
    "  [0.1, 100, 50],\n",
    "  [0.1, 100, 50],\n",
    "  [0.1, 100, 50],\n",
    "  [0.1, 100, 100, 50],\n",
    "  [0.1, 100, 50]],\n",
    " 'optimal_parameters': [array([ -1.38253997e-02,   1.61808000e+02,   1.38423046e+02]),\n",
    "  array([  -0.23423524,  196.89551568,   35.34237873]),\n",
    "  array([  1.11698206e-02,   5.05654067e+02,   1.77398533e+01]),\n",
    "  array([ -1.11067301e+00,   1.43849445e-04,   2.21063319e+02,\n",
    "           2.21063319e+02,   1.72888750e+02]),\n",
    "  array([ -2.18683714e+01,   2.30110446e-01,   2.38583791e+02,\n",
    "           2.38583791e+02,   7.07242426e+01]),\n",
    "  array([ -1.09075194e-02,   3.41651167e+02,   4.32677094e+01]),\n",
    "  array([ -2.83671300e-03,   6.15069734e+01,   6.15069734e+01,\n",
    "           1.63317317e+02]),\n",
    "  array([ -0.12562957,  56.52932092,  56.52932092,  44.43209789]),\n",
    "  array([  6.16875297e-05,   3.03467861e+02,   7.11170954e+01]),\n",
    "  array([   0.38383075,  190.66697563,  115.92429557]),\n",
    "  array([  6.95708683,  82.93756092,  41.75555919]),\n",
    "  array([ -8.39141854e-03,   4.32554018e+02,   3.53061530e+00]),\n",
    "  array([  1.74916306e-02,   7.33523431e+01,   1.35525799e+02]),\n",
    "  array([  0.96180938,  74.53602891,  22.40876107]),\n",
    "  array([ -3.71108711e-04,   1.80724300e+02,   1.05344543e+02]),\n",
    "  array([ 2640.59484704,   169.75746366,   132.09297316]),\n",
    "  array([ 130.6625,  100.    ,  100.    ,   50.    ]),\n",
    "  array([ 499.7268502 ,  429.50551286,    2.27720332])],\n",
    " 'residuals': [array([  1.15788491e+00,   1.04169532e+02,   6.92857698e-01,\n",
    "           6.15445750e-01,   2.59435684e+01,   4.67282223e-01,\n",
    "           7.42190326e-01,   2.98027994e+01,   2.00992479e-02,\n",
    "           3.40905668e+00,   5.50135747e+01,   6.55339933e-02,\n",
    "           3.64700598e-01,   1.74999624e+01,   8.74606959e-02,\n",
    "           2.69343774e+00,   6.64197438e+03,   1.22142706e+00])],\n",
    " 'type': ['FOPTD',\n",
    "  'FOPTD',\n",
    "  'FOPTD',\n",
    "  'SOZPTD',\n",
    "  'SOZPTD',\n",
    "  'FOPTD',\n",
    "  'SOPTD',\n",
    "  'SOPTD',\n",
    "  'FOPTD',\n",
    "  'FOPTD',\n",
    "  'FOPTD',\n",
    "  'FOPTD',\n",
    "  'FOPTD',\n",
    "  'FOPTD',\n",
    "  'FOPTD',\n",
    "  'FOPTD',\n",
    "  'SOPTD',\n",
    "  'FOPTD']}"
   ]
  },
  {
   "cell_type": "code",
   "execution_count": 4,
   "metadata": {
    "collapsed": false
   },
   "outputs": [
    {
     "name": "stderr",
     "output_type": "stream",
     "text": [
      "C:\\Python34\\lib\\site-packages\\scipy\\signal\\filter_design.py:1055: BadCoefficients: Badly conditioned filter coefficients (numerator): the results may be meaningless\n",
      "  \"results may be meaningless\", BadCoefficients)\n",
      "C:\\Users\\Imberproninja\\Desktop\\Work\\Honors\\CBT\\Project_Cstr\\Simulation and modelling\\CBT-project-CSTR-\\System simulation\\Steptesting and modelling\\Code\\Fitting_module.py:43: RuntimeWarning: overflow encountered in multiply\n",
      "  x += dx * dt\n",
      "C:\\Users\\Imberproninja\\Desktop\\Work\\Honors\\CBT\\Project_Cstr\\Simulation and modelling\\CBT-project-CSTR-\\System simulation\\Steptesting and modelling\\Code\\Fitting_module.py:43: RuntimeWarning: invalid value encountered in add\n",
      "  x += dx * dt\n"
     ]
    }
   ],
   "source": [
    "tspan = numpy.linspace(0, 2000, 1000)\n",
    "stepped_vars = Fitting_curves.stepped_var\n",
    "output_vars = ['Cc_measured','T','H','Cc_measured','T','H','Cc_measured','T','H','Cc_measured','T','H','Cc_measured','T','H','Cc_measured','T','H']\n",
    "data = Fitting_curves.data\n",
    "types = Fitting_curves.fit_types\n",
    "u_vals = [20,20,20,20,20,20,20,20,20,0.2*7.4,0.2*7.4,0.2*7.4,0.2*24,0.2*24,0.2*24,0.2*7.334e-4,0.2*7.334e-4,0.2*7.334e-4]\n",
    "yo_vals = Fitting_curves.yo_vals\n",
    "simdata = get_results()\n",
    "\n",
    "# getting data from fits\n",
    "fitted = []\n",
    "\n",
    "for i,fit in enumerate(results['fit']):\n",
    "    parameters = results['optimal_parameters'][i]\n",
    "    model = results['type'][i]\n",
    "    u = u_vals[i]\n",
    "    t = tspan\n",
    "    yo = yo_vals[i]\n",
    "    vals = Fitting_module.get_model_vals(parameters,model,u,t,yo)\n",
    "    fitted.append(vals)\n",
    "\n",
    "\n",
    "\n",
    "\n",
    "for i, name in enumerate(simdata.keys()):\n",
    "    plot.figure()\n",
    "    plot.plot(tspan,simdata[name],label = 'simulated')\n",
    "    plot.plot(tspan,fitted[i],label='fitted')\n",
    "    plot.title(\"Results of fitting a \"+str(types[i]) + \" model to step resonse of \"+str(output_vars[i])+\" to \"+str(stepped_vars[i]))\n",
    "    plot.axis()\n",
    "    plot.legend(loc=1)\n",
    "    plot.xlabel('Time in sec')\n",
    "    plot.ylabel('value of output in SI units')\n",
    "\n",
    "plot.show()"
   ]
  },
  {
   "cell_type": "code",
   "execution_count": 15,
   "metadata": {
    "collapsed": true
   },
   "outputs": [],
   "source": [
    "tspan = numpy.linspace(0, 2000, 1000)\n",
    "stepped_vars = Fitting_curves.stepped_var\n",
    "output_vars = ['Cc_measured','T','H','Cc_measured','T','H','Cc_measured','T','H','Cc_measured','T','H','Cc_measured','T','H','Cc_measured','T','H']\n",
    "data = Fitting_curves.data\n",
    "types = Fitting_curves.fit_types\n",
    "u_vals = [20,20,20,20,20,20,20,20,20,0.2*7.4,0.2*7.4,0.2*7.4,0.2*24,0.2*24,0.2*24,0.2*7.334e-4,0.2*7.334e-4,0.2*7.334e-4]\n",
    "yo_vals = Fitting_curves.yo_vals\n",
    "simdata = get_results()\n",
    "stepped_vars = ['Ps1','Ps2','Ps3','Cao','Tbo','F1']\n",
    "outputs = ['Cc_measured', 'T', 'H']\n",
    "names = []\n",
    "for i, input in enumerate(stepped_vars):\n",
    "    for j, output in enumerate(outputs):\n",
    "        names.append(str(input) + str(output))\n",
    "        \n",
    "ss_values = steady_state()\n",
    "ccss = ss_values['Cc']\n",
    "tss = ss_values['T']\n",
    "hss = ss_values['H']\n",
    "\n",
    "        \n",
    "data_sets = [data[key] for key in names]\n",
    "fit_types = [get_type(name) for name in names]\n",
    "yo_vals = [ccss,tss,hss,ccss,tss,hss,ccss,tss,hss,ccss,tss,hss,ccss,tss,hss,ccss,tss,hss]\n",
    "initials = get_initials(fit_types)\n",
    "u_vals = [20,20,20,20,20,20,20,20,20,0.2*7.4,0.2*7.4,0.2*7.4,0.2*24,0.2*24,0.2*24,0.2*7.334e-4,0.2*7.334e-4,0.2*7.334e-4]"
   ]
  },
  {
   "cell_type": "code",
   "execution_count": 6,
   "metadata": {
    "collapsed": false
   },
   "outputs": [],
   "source": [
    "names =  ['Ps3Cc_measured','Ps3T','TboH']\n",
    "\n",
    "fit_types = ['SOPTD','SOPTD','SOPTD']\n",
    "initials = [get_initials(fit_types)]\n",
    "# initials[3][0] = 1\n",
    "# initials[2][0] = -0.001\n",
    "u_vals = [20,20,0.2 * 24]\n",
    "#u_vals = [0.2 * 7.334e-4]\n",
    "yo_vals = [ccss,tss,hss]\n",
    "yo_vals =    [tss]\n",
    "\n",
    "#initials[0] = [10000,100,0.5,50]\n",
    "# initials[1][2] = 0.7\n",
    "# initials[2][2] = 0.7"
   ]
  },
  {
   "cell_type": "code",
   "execution_count": 7,
   "metadata": {
    "collapsed": false
   },
   "outputs": [],
   "source": [
    "#print(prob_res['optimal_parameters'])\n",
    "import csv\n",
    "params = results['optimal_parameters']\n",
    "\n",
    "# with open('fit_results.csv','wb') as csv_file:\n",
    "#     writer = csv.writer(csv_file,delimiter = ',')\n",
    "#     for i,fit in enumerate(params):\n",
    "#         print(fit)\n",
    "# #        csv_file.write(bytes(fit, 'UTF-8'))\n",
    "#         writer.writerow(list(fit))\n",
    "\n",
    "with open (r'Fit_results.csv', 'w', newline='') as write_file:\n",
    "    write = csv.writer(write_file)\n",
    "    write.writerows(fit for fit in params)"
   ]
  },
  {
   "cell_type": "code",
   "execution_count": 8,
   "metadata": {
    "collapsed": false
   },
   "outputs": [
    {
     "ename": "NameError",
     "evalue": "name 'prob_res' is not defined",
     "output_type": "error",
     "traceback": [
      "\u001b[1;31m---------------------------------------------------------------------------\u001b[0m",
      "\u001b[1;31mNameError\u001b[0m                                 Traceback (most recent call last)",
      "\u001b[1;32m<ipython-input-8-c247560d591e>\u001b[0m in \u001b[0;36m<module>\u001b[1;34m()\u001b[0m\n\u001b[0;32m      2\u001b[0m \u001b[0mu_vals\u001b[0m \u001b[1;33m=\u001b[0m \u001b[1;33m[\u001b[0m\u001b[1;36m0.2\u001b[0m \u001b[1;33m*\u001b[0m \u001b[1;36m7.334e-4\u001b[0m\u001b[1;33m]\u001b[0m\u001b[1;33m\u001b[0m\u001b[0m\n\u001b[0;32m      3\u001b[0m \u001b[0mtypes\u001b[0m \u001b[1;33m=\u001b[0m \u001b[0mfit_types\u001b[0m\u001b[1;33m\u001b[0m\u001b[0m\n\u001b[1;32m----> 4\u001b[1;33m \u001b[1;32mfor\u001b[0m \u001b[0mi\u001b[0m\u001b[1;33m,\u001b[0m\u001b[0mfit\u001b[0m \u001b[1;32min\u001b[0m \u001b[0menumerate\u001b[0m\u001b[1;33m(\u001b[0m\u001b[0mprob_res\u001b[0m\u001b[1;33m[\u001b[0m\u001b[1;34m'fit'\u001b[0m\u001b[1;33m]\u001b[0m\u001b[1;33m)\u001b[0m\u001b[1;33m:\u001b[0m\u001b[1;33m\u001b[0m\u001b[0m\n\u001b[0m\u001b[0;32m      5\u001b[0m     \u001b[0mparameters\u001b[0m \u001b[1;33m=\u001b[0m \u001b[0mprob_res\u001b[0m\u001b[1;33m[\u001b[0m\u001b[1;34m'optimal_parameters'\u001b[0m\u001b[1;33m]\u001b[0m\u001b[1;33m[\u001b[0m\u001b[0mi\u001b[0m\u001b[1;33m]\u001b[0m\u001b[1;33m\u001b[0m\u001b[0m\n\u001b[0;32m      6\u001b[0m     \u001b[0mmodel\u001b[0m \u001b[1;33m=\u001b[0m \u001b[0mprob_res\u001b[0m\u001b[1;33m[\u001b[0m\u001b[1;34m'type'\u001b[0m\u001b[1;33m]\u001b[0m\u001b[1;33m[\u001b[0m\u001b[0mi\u001b[0m\u001b[1;33m]\u001b[0m\u001b[1;33m\u001b[0m\u001b[0m\n",
      "\u001b[1;31mNameError\u001b[0m: name 'prob_res' is not defined"
     ]
    }
   ],
   "source": [
    "#u_vals = [20]#,20,0.2 * 24,0.2 * 7.334e-4]\n",
    "u_vals = [0.2 * 7.334e-4]\n",
    "types = fit_types\n",
    "for i,fit in enumerate(prob_res['fit']):\n",
    "    parameters = prob_res['optimal_parameters'][i]\n",
    "    model = prob_res['type'][i]\n",
    "    u = u_vals[i]\n",
    "    t = tspan\n",
    "    yo = yo_vals[i]\n",
    "    vals = Fitting_module.get_model_vals(parameters,model,u,t,yo)\n",
    "    fitted.append(vals)\n",
    "\n",
    "\n",
    "\n",
    "\n",
    "for i, name in enumerate(prob_res['fit']):\n",
    "    plot.figure()\n",
    "    plot.plot(tspan,simdata[name],label = 'simulated')\n",
    "    plot.plot(tspan,vals,label='fitted')\n",
    "#    plot.title(\"Results of fitting a \"+str(types[i]) + \" model to step resonse of \"+str(output_vars[i])+\" to \"+str(stepped_vars[i]))\n",
    "    plot.axis()\n",
    "    plot.legend(loc=1)\n",
    "    plot.xlabel('Time in sec')\n",
    "    plot.ylabel('value of output in SI units')\n",
    "\n",
    "plot.show()"
   ]
  },
  {
   "cell_type": "code",
   "execution_count": null,
   "metadata": {
    "collapsed": true
   },
   "outputs": [],
   "source": [
    "def SOPTD(parameters,u,tspan,yo):    # form is k/(t1s+1)(t2s+1)\n",
    "\n",
    "    k,tau,zeta,theta = parameters\n",
    "\n",
    "    G1 = lti([k], [tau**2,2*zeta*tau, 1])\n",
    "    dt = tspan[1] - tspan[0]\n",
    "    results = numpy.zeros(len(tspan))\n",
    "    yvals = numpy.zeros(len(tspan))\n",
    "    y = yo\n",
    "    x = numpy.zeros([G1.A.shape[0], 1])\n",
    "\n",
    "    for i, t in enumerate(tspan):\n",
    "        yvals[i] = y\n",
    "        t_interp = t - theta\n",
    "        ydelayed = numpy.interp(t_interp, tspan, yvals)\n",
    "        results[i] = ydelayed\n",
    "        dx = G1.A.dot(x) + G1.B.dot(u)\n",
    "        x += dx * dt\n",
    "        y_prime = G1.C.dot(x) + G1.D.dot(u)\n",
    "        y = y_prime[0][0] + yo\n",
    "\n",
    "    return numpy.array(results)\n"
   ]
  },
  {
   "cell_type": "code",
   "execution_count": 11,
   "metadata": {
    "collapsed": false
   },
   "outputs": [
    {
     "name": "stderr",
     "output_type": "stream",
     "text": [
      "C:\\Python34\\lib\\site-packages\\scipy\\signal\\filter_design.py:1055: BadCoefficients: Badly conditioned filter coefficients (numerator): the results may be meaningless\n",
      "  \"results may be meaningless\", BadCoefficients)\n"
     ]
    }
   ],
   "source": [
    "from Fitting_module import SOPTD\n",
    "data = SOPTD([-2.83658257e-03,   9.71055133e+01,   6.82392527e-01,\n",
    "          1.34900330e+02],20,tspan,yo)"
   ]
  },
  {
   "cell_type": "code",
   "execution_count": 12,
   "metadata": {
    "collapsed": false
   },
   "outputs": [],
   "source": [
    "plot.figure()\n",
    "plot.plot(tspan,data)\n",
    "plot.show()"
   ]
  },
  {
   "cell_type": "code",
   "execution_count": null,
   "metadata": {
    "collapsed": false
   },
   "outputs": [],
   "source": [
    "params"
   ]
  },
  {
   "cell_type": "code",
   "execution_count": null,
   "metadata": {
    "collapsed": false
   },
   "outputs": [],
   "source": [
    "with open('fit_results.csv','rb') as f:\n",
    "    reader = csv.reader(f)\n",
    "    all_params = list(reader)"
   ]
  },
  {
   "cell_type": "code",
   "execution_count": null,
   "metadata": {
    "collapsed": false
   },
   "outputs": [],
   "source": [
    "filename = 'fit_results.csv'\n",
    "with open(filename, 'rU') as p:\n",
    "    #reads csv into a list of lists\n",
    "    my_list = [rec for rec in csv.reader(p, delimiter=',')]"
   ]
  },
  {
   "cell_type": "code",
   "execution_count": null,
   "metadata": {
    "collapsed": false
   },
   "outputs": [],
   "source": [
    "res = [map(list,i) for i in my_list]"
   ]
  },
  {
   "cell_type": "code",
   "execution_count": null,
   "metadata": {
    "collapsed": false
   },
   "outputs": [],
   "source": [
    "res = [list(i) for i in res]"
   ]
  },
  {
   "cell_type": "code",
   "execution_count": null,
   "metadata": {
    "collapsed": false
   },
   "outputs": [],
   "source": [
    "my_list = [[float(i) for i in my_list[j]] for j,lis in enumerate(my_list)]"
   ]
  },
  {
   "cell_type": "code",
   "execution_count": null,
   "metadata": {
    "collapsed": false
   },
   "outputs": [],
   "source": []
  },
  {
   "cell_type": "code",
   "execution_count": null,
   "metadata": {
    "collapsed": false
   },
   "outputs": [],
   "source": [
    "import csv\n",
    "import Fitting_curves\n",
    "from matplotlib import pyplot as plot\n",
    "import numpy\n",
    "\n",
    "\n",
    "\n",
    "# with open('fit_results.csv','rb') as f:\n",
    "#     reader = csv.reader(f)\n",
    "#     all_params = list(reader)\n",
    "filename = 'fit_results.csv'\n",
    "with open(filename, 'rU') as p:\n",
    "    #reads csv into a list of lists\n",
    "    my_list = [rec for rec in csv.reader(p, delimiter=',')]\n",
    "\n",
    "all_params = [[float(i) for i in my_list[j]] for j,lis in enumerate(my_list)]\n",
    "\n",
    "from Stepping_all import run_sim,get_results\n",
    "import Fitting_module\n",
    "names = Fitting_curves.names\n",
    "tspan = numpy.linspace(0, 2000, 1000)\n",
    "stepped_vars = Fitting_curves.stepped_var\n",
    "output_vars = ['Cc_measured','T','H','Cc_measured','T','H','Cc_measured','T','H','Cc_measured','T','H','Cc_measured','T','H','Cc_measured','T','H']\n",
    "data = get_results()\n",
    "\n",
    "types = Fitting_curves.fit_types\n",
    "u_vals = [20,20,20,20,20,20,20,20,20,0.2*7.4,0.2*7.4,0.2*7.4,0.2*24,0.2*24,0.2*24,0.2*7.334e-4,0.2*7.334e-4,0.2*7.334e-4]\n",
    "yo_vals = Fitting_curves.yo_vals\n",
    "simdata = data\n",
    "\n",
    "# getting data from fits\n",
    "fitted = []\n",
    "\n",
    "# for i,fit in enumerate(names):\n",
    "#     parameters = all_params[i]\n",
    "#     model = types[i]\n",
    "#     u = u_vals[i]\n",
    "#     t = tspan\n",
    "#     yo = yo_vals[i]\n",
    "#     vals = Fitting_module.get_model_vals(parameters,model,u,t,yo)\n",
    "#     fitted.append(vals)\n",
    "\n",
    "\n",
    "\n",
    "\n",
    "for i, name in enumerate(names):\n",
    "    plot.figure()\n",
    "    plot.plot(tspan,simdata[name],label = 'simulated')\n",
    "#    plot.plot(tspan,fitted[i],label='fitted')\n",
    "    plot.title(\"Results of fitting a \"+str(types[i]) + \" model to step resonse of \"+str(output_vars[i])+\" to \"+str(stepped_vars[i]))\n",
    "    plot.axis()\n",
    "    plot.legend(loc=4)\n",
    "    plot.xlabel('Time in sec')\n",
    "    plot.ylabel('value of output in SI units')\n",
    "\n",
    "plot.show()"
   ]
  },
  {
   "cell_type": "code",
   "execution_count": 33,
   "metadata": {
    "collapsed": false
   },
   "outputs": [
    {
     "name": "stdout",
     "output_type": "stream",
     "text": [
      "Initializing\n",
      "Running\n",
      "current fit is 1 of 1\n"
     ]
    },
    {
     "ename": "TypeError",
     "evalue": "list indices must be integers, not str",
     "output_type": "error",
     "traceback": [
      "\u001b[1;31m---------------------------------------------------------------------------\u001b[0m",
      "\u001b[1;31mTypeError\u001b[0m                                 Traceback (most recent call last)",
      "\u001b[1;32m<ipython-input-33-d5e26477c1a5>\u001b[0m in \u001b[0;36m<module>\u001b[1;34m()\u001b[0m\n\u001b[0;32m     11\u001b[0m \u001b[1;33m\u001b[0m\u001b[0m\n\u001b[0;32m     12\u001b[0m \u001b[1;33m\u001b[0m\u001b[0m\n\u001b[1;32m---> 13\u001b[1;33m \u001b[0mres\u001b[0m \u001b[1;33m=\u001b[0m \u001b[0mrun_all_fits\u001b[0m\u001b[1;33m(\u001b[0m\u001b[0mnames\u001b[0m\u001b[1;33m,\u001b[0m\u001b[0mfit_types\u001b[0m\u001b[1;33m,\u001b[0m\u001b[0minitials\u001b[0m\u001b[1;33m,\u001b[0m\u001b[0myo_vals\u001b[0m\u001b[1;33m,\u001b[0m\u001b[0mu_vals\u001b[0m\u001b[1;33m,\u001b[0m\u001b[0mdat\u001b[0m\u001b[1;33m)\u001b[0m\u001b[1;33m\u001b[0m\u001b[0m\n\u001b[0m",
      "\u001b[1;32mC:\\Users\\Imberproninja\\Desktop\\Work\\Honors\\CBT\\Project_Cstr\\Simulation and modelling\\CBT-project-CSTR-\\System simulation\\Steptesting and modelling\\Code\\Fitting_curves.py\u001b[0m in \u001b[0;36mrun_all_fits\u001b[1;34m(names, fit_types, initials, yo_vals, u_vals, data)\u001b[0m\n\u001b[0;32m     38\u001b[0m             \u001b[0mopt\u001b[0m \u001b[1;33m=\u001b[0m \u001b[0mscipy\u001b[0m\u001b[1;33m.\u001b[0m\u001b[0moptimize\u001b[0m\u001b[1;33m.\u001b[0m\u001b[0mminimize\u001b[0m\u001b[1;33m(\u001b[0m\u001b[0merror_func\u001b[0m\u001b[1;33m,\u001b[0m\u001b[0mparameters\u001b[0m\u001b[1;33m,\u001b[0m\u001b[0margs\u001b[0m \u001b[1;33m=\u001b[0m \u001b[1;33m(\u001b[0m\u001b[0mmodel\u001b[0m\u001b[1;33m,\u001b[0m\u001b[0mu\u001b[0m\u001b[1;33m,\u001b[0m\u001b[0mt\u001b[0m\u001b[1;33m,\u001b[0m\u001b[0myo_vals\u001b[0m\u001b[1;33m[\u001b[0m\u001b[0mi\u001b[0m\u001b[1;33m]\u001b[0m\u001b[1;33m,\u001b[0m\u001b[0mdata\u001b[0m\u001b[1;33m[\u001b[0m\u001b[0mname\u001b[0m\u001b[1;33m]\u001b[0m\u001b[1;33m)\u001b[0m\u001b[1;33m,\u001b[0m \u001b[0mbounds\u001b[0m \u001b[1;33m=\u001b[0m \u001b[1;33m[\u001b[0m\u001b[1;33m[\u001b[0m\u001b[1;36m10e3\u001b[0m\u001b[1;33m,\u001b[0m\u001b[1;36m10e4\u001b[0m\u001b[1;33m]\u001b[0m\u001b[1;33m,\u001b[0m\u001b[1;33m[\u001b[0m\u001b[1;36m50\u001b[0m\u001b[1;33m,\u001b[0m\u001b[1;36m500\u001b[0m\u001b[1;33m]\u001b[0m\u001b[1;33m,\u001b[0m\u001b[1;33m[\u001b[0m\u001b[1;36m0\u001b[0m\u001b[1;33m,\u001b[0m\u001b[1;36m1\u001b[0m\u001b[1;33m]\u001b[0m\u001b[1;33m,\u001b[0m\u001b[1;33m[\u001b[0m\u001b[1;36m0\u001b[0m\u001b[1;33m,\u001b[0m\u001b[1;36m200\u001b[0m\u001b[1;33m]\u001b[0m\u001b[1;33m]\u001b[0m\u001b[1;33m)\u001b[0m\u001b[1;33m\u001b[0m\u001b[0m\n\u001b[0;32m     39\u001b[0m         \u001b[1;32melse\u001b[0m\u001b[1;33m:\u001b[0m\u001b[1;33m\u001b[0m\u001b[0m\n\u001b[1;32m---> 40\u001b[1;33m             \u001b[0mopt\u001b[0m \u001b[1;33m=\u001b[0m \u001b[0mscipy\u001b[0m\u001b[1;33m.\u001b[0m\u001b[0moptimize\u001b[0m\u001b[1;33m.\u001b[0m\u001b[0mminimize\u001b[0m\u001b[1;33m(\u001b[0m\u001b[0merror_func\u001b[0m\u001b[1;33m,\u001b[0m\u001b[0mparameters\u001b[0m\u001b[1;33m,\u001b[0m\u001b[0margs\u001b[0m \u001b[1;33m=\u001b[0m \u001b[1;33m(\u001b[0m\u001b[0mmodel\u001b[0m\u001b[1;33m,\u001b[0m\u001b[0mu\u001b[0m\u001b[1;33m,\u001b[0m\u001b[0mt\u001b[0m\u001b[1;33m,\u001b[0m\u001b[0myo_vals\u001b[0m\u001b[1;33m[\u001b[0m\u001b[0mi\u001b[0m\u001b[1;33m]\u001b[0m\u001b[1;33m,\u001b[0m\u001b[0mdata\u001b[0m\u001b[1;33m[\u001b[0m\u001b[0mname\u001b[0m\u001b[1;33m]\u001b[0m\u001b[1;33m)\u001b[0m\u001b[1;33m)\u001b[0m\u001b[1;33m\u001b[0m\u001b[0m\n\u001b[0m\u001b[0;32m     41\u001b[0m         \u001b[0mfitted_params\u001b[0m\u001b[1;33m.\u001b[0m\u001b[0mappend\u001b[0m\u001b[1;33m(\u001b[0m\u001b[0mopt\u001b[0m\u001b[1;33m.\u001b[0m\u001b[0mx\u001b[0m\u001b[1;33m)\u001b[0m\u001b[1;33m\u001b[0m\u001b[0m\n\u001b[0;32m     42\u001b[0m         \u001b[0mresidual\u001b[0m \u001b[1;33m=\u001b[0m \u001b[0mopt\u001b[0m\u001b[1;33m.\u001b[0m\u001b[0mfun\u001b[0m\u001b[1;33m\u001b[0m\u001b[0m\n",
      "\u001b[1;31mTypeError\u001b[0m: list indices must be integers, not str"
     ]
    }
   ],
   "source": [
    "\n",
    "from Fitting_curves import get_initials\n",
    "data = data\n",
    "names = ['Ps3Cc_measured']\n",
    "types = ['SOPTD']\n",
    "initials = get_initials(types)\n",
    "dat = data['Ps3Cc_measured']\n",
    "u_vals = [20]\n",
    "yo_vals = [1.84]\n",
    "\n",
    "\n",
    "\n",
    "res = run_all_fits(names,fit_types,initials,yo_vals,u_vals,dat)"
   ]
  },
  {
   "cell_type": "code",
   "execution_count": 37,
   "metadata": {
    "collapsed": false
   },
   "outputs": [
    {
     "data": {
      "text/plain": [
       "array([ 499.7268502 ,  429.50551286,    2.27720332])"
      ]
     },
     "execution_count": 37,
     "metadata": {},
     "output_type": "execute_result"
    }
   ],
   "source": [
    "parameters"
   ]
  },
  {
   "cell_type": "code",
   "execution_count": 38,
   "metadata": {
    "collapsed": false
   },
   "outputs": [
    {
     "data": {
      "text/plain": [
       "[[-0.1, 100, 0.7, 50]]"
      ]
     },
     "execution_count": 38,
     "metadata": {},
     "output_type": "execute_result"
    }
   ],
   "source": []
  },
  {
   "cell_type": "code",
   "execution_count": null,
   "metadata": {
    "collapsed": true
   },
   "outputs": [],
   "source": []
  }
 ],
 "metadata": {
  "kernelspec": {
   "display_name": "Python 3",
   "language": "python",
   "name": "python3"
  },
  "language_info": {
   "codemirror_mode": {
    "name": "ipython",
    "version": 3
   },
   "file_extension": ".py",
   "mimetype": "text/x-python",
   "name": "python",
   "nbconvert_exporter": "python",
   "pygments_lexer": "ipython3",
   "version": "3.4.3"
  }
 },
 "nbformat": 4,
 "nbformat_minor": 0
}
