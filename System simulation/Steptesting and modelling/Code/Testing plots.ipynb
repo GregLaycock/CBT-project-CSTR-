{
 "cells": [
  {
   "cell_type": "code",
   "execution_count": 23,
   "metadata": {
    "collapsed": false
   },
   "outputs": [],
   "source": [
    "import csv\n",
    "import Fitting_curves\n",
    "from matplotlib import pyplot as plot\n",
    "import numpy\n",
    "from numpy import array\n",
    "\n",
    "from Stepping_all import run_sim,get_results\n",
    "import Fitting_module \n",
    "import Fitting_curves\n",
    "from Fitting_curves import run_all_fits,get_initials,get_type\n",
    "from Stepping_all import *\n",
    "from Fitting_module import *\n",
    "from steady_state_values import steady_state\n",
    "import numpy\n",
    "import scipy.optimize\n"
   ]
  },
  {
   "cell_type": "code",
   "execution_count": 19,
   "metadata": {
    "collapsed": false
   },
   "outputs": [],
   "source": [
    "tspan = numpy.linspace(0, 2000, 1000)\n",
    "stepped_vars = Fitting_curves.stepped_var\n",
    "output_vars = ['Cc_measured','T','H','Cc_measured','T','H','Cc_measured','T','H','Cc_measured','T','H','Cc_measured','T','H','Cc_measured','T','H']\n",
    "data = Fitting_curves.data\n",
    "types = Fitting_curves.fit_types\n",
    "u_vals = [20,20,20,20,20,20,20,20,20,0.2*7.4,0.2*7.4,0.2*7.4,0.2*24,0.2*24,0.2*24,0.2*7.334e-4,0.2*7.334e-4,0.2*7.334e-4]\n",
    "yo_vals = Fitting_curves.yo_vals\n",
    "simdata = get_results()\n",
    "stepped_vars = ['Ps1','Ps2','Ps3','Cao','Tbo','F1']\n",
    "outputs = ['Cc_measured', 'T', 'H']\n",
    "names = []\n",
    "for i, input in enumerate(stepped_vars):\n",
    "    for j, output in enumerate(outputs):\n",
    "        names.append(str(input) + str(output))\n",
    "        \n",
    "ss_values = steady_state()\n",
    "ccss = ss_values['Cc']\n",
    "tss = ss_values['T']\n",
    "hss = ss_values['H']\n",
    "\n",
    "        \n",
    "data_sets = [data[key] for key in names]\n",
    "fit_types = [get_type(name) for name in names]\n",
    "yo_vals = [ccss,tss,hss,ccss,tss,hss,ccss,tss,hss,ccss,tss,hss,ccss,tss,hss,ccss,tss,hss]\n",
    "initials = get_initials(fit_types)\n",
    "u_vals = [20,20,20,20,20,20,20,20,20,0.2*7.4,0.2*7.4,0.2*7.4,0.2*24,0.2*24,0.2*24,0.2*7.334e-4,0.2*7.334e-4,0.2*7.334e-4]"
   ]
  },
  {
   "cell_type": "code",
   "execution_count": 20,
   "metadata": {
    "collapsed": false
   },
   "outputs": [
    {
     "name": "stdout",
     "output_type": "stream",
     "text": [
      "Initializing\n",
      "Running\n",
      "current fit is 1 of 18\n",
      "completed fit 1 with residual sum abs error of 1.1578849105650595\n",
      "current fit is 2 of 18\n",
      "completed fit 2 with residual sum abs error of 104.16953205371915\n",
      "current fit is 3 of 18\n",
      "completed fit 3 with residual sum abs error of 0.6928576979235189\n",
      "current fit is 4 of 18\n",
      "completed fit 4 with residual sum abs error of 0.6154457495264716\n",
      "current fit is 5 of 18\n",
      "completed fit 5 with residual sum abs error of 25.943568352242877\n",
      "current fit is 6 of 18\n",
      "completed fit 6 with residual sum abs error of 0.46728222269207476"
     ]
    },
    {
     "name": "stderr",
     "output_type": "stream",
     "text": [
      "C:\\Python34\\lib\\site-packages\\scipy\\signal\\filter_design.py:1055: BadCoefficients: Badly conditioned filter coefficients (numerator): the results may be meaningless\n",
      "  \"results may be meaningless\", BadCoefficients)\n",
      "C:\\Python34\\lib\\site-packages\\scipy\\signal\\filter_design.py:1055: BadCoefficients: Badly conditioned filter coefficients (numerator): the results may be meaningless\n",
      "  \"results may be meaningless\", BadCoefficients)\n"
     ]
    },
    {
     "name": "stdout",
     "output_type": "stream",
     "text": [
      "\n",
      "current fit is 7 of 18\n",
      "completed fit 7 with residual sum abs error of 0.7421903263642684"
     ]
    },
    {
     "name": "stderr",
     "output_type": "stream",
     "text": [
      "C:\\Python34\\lib\\site-packages\\scipy\\signal\\filter_design.py:1055: BadCoefficients: Badly conditioned filter coefficients (numerator): the results may be meaningless\n",
      "  \"results may be meaningless\", BadCoefficients)\n",
      "C:\\Python34\\lib\\site-packages\\scipy\\signal\\filter_design.py:1055: BadCoefficients: Badly conditioned filter coefficients (numerator): the results may be meaningless\n",
      "  \"results may be meaningless\", BadCoefficients)\n"
     ]
    },
    {
     "name": "stdout",
     "output_type": "stream",
     "text": [
      "\n",
      "current fit is 8 of 18\n",
      "completed fit 8 with residual sum abs error of 29.802799396916136\n",
      "current fit is 9 of 18\n",
      "completed fit 9 with residual sum abs error of 0.02009924789894768\n",
      "current fit is 10 of 18\n",
      "completed fit 10 with residual sum abs error of 3.4090566815144268\n",
      "current fit is 11 of 18\n",
      "completed fit 11 with residual sum abs error of 55.013574684486855\n",
      "current fit is 12 of 18\n",
      "completed fit 12 with residual sum abs error of 0.06553399331794951\n",
      "current fit is 13 of 18\n",
      "completed fit 13 with residual sum abs error of 0.36470059805054067\n",
      "current fit is 14 of 18\n",
      "completed fit 14 with residual sum abs error of 17.499962350376904\n",
      "current fit is 15 of 18\n",
      "completed fit 15 with residual sum abs error of 0.087460695878401\n",
      "current fit is 16 of 18\n",
      "completed fit 16 with residual sum abs error of 2.6934377412873505"
     ]
    },
    {
     "name": "stderr",
     "output_type": "stream",
     "text": [
      "C:\\Python34\\lib\\site-packages\\scipy\\signal\\filter_design.py:1055: BadCoefficients: Badly conditioned filter coefficients (numerator): the results may be meaningless\n",
      "  \"results may be meaningless\", BadCoefficients)\n",
      "C:\\Python34\\lib\\site-packages\\scipy\\signal\\filter_design.py:1055: BadCoefficients: Badly conditioned filter coefficients (numerator): the results may be meaningless\n",
      "  \"results may be meaningless\", BadCoefficients)\n",
      "C:\\Python34\\lib\\site-packages\\scipy\\signal\\filter_design.py:1055: BadCoefficients: Badly conditioned filter coefficients (numerator): the results may be meaningless\n",
      "  \"results may be meaningless\", BadCoefficients)\n",
      "C:\\Python34\\lib\\site-packages\\scipy\\signal\\filter_design.py:1055: BadCoefficients: Badly conditioned filter coefficients (numerator): the results may be meaningless\n",
      "  \"results may be meaningless\", BadCoefficients)\n"
     ]
    },
    {
     "name": "stdout",
     "output_type": "stream",
     "text": [
      "\n",
      "current fit is 17 of 18\n",
      "completed fit 17 with residual sum abs error of 6641.97437554\n",
      "current fit is 18 of 18\n",
      "completed fit 18 with residual sum abs error of 1.2214270593786216\n"
     ]
    },
    {
     "data": {
      "text/plain": [
       "{'fit': ['Ps1Cc_measured',\n",
       "  'Ps1T',\n",
       "  'Ps1H',\n",
       "  'Ps2Cc_measured',\n",
       "  'Ps2T',\n",
       "  'Ps2H',\n",
       "  'Ps3Cc_measured',\n",
       "  'Ps3T',\n",
       "  'Ps3H',\n",
       "  'CaoCc_measured',\n",
       "  'CaoT',\n",
       "  'CaoH',\n",
       "  'TboCc_measured',\n",
       "  'TboT',\n",
       "  'TboH',\n",
       "  'F1Cc_measured',\n",
       "  'F1T',\n",
       "  'F1H'],\n",
       " 'initial': [[0.1, 100, 50],\n",
       "  [0.1, 100, 50],\n",
       "  [0.1, 100, 50],\n",
       "  [-1, 0.5, 100, 100, 50],\n",
       "  [-1, 0.5, 100, 100, 50],\n",
       "  [0.1, 100, 50],\n",
       "  [0.1, 100, 100, 50],\n",
       "  [0.1, 100, 100, 50],\n",
       "  [0.1, 100, 50],\n",
       "  [0.1, 100, 50],\n",
       "  [0.1, 100, 50],\n",
       "  [0.1, 100, 50],\n",
       "  [0.1, 100, 50],\n",
       "  [0.1, 100, 50],\n",
       "  [0.1, 100, 50],\n",
       "  [0.1, 100, 50],\n",
       "  [0.1, 100, 100, 50],\n",
       "  [0.1, 100, 50]],\n",
       " 'optimal_paramters': [array([ -1.38253997e-02,   1.61808000e+02,   1.38423046e+02]),\n",
       "  array([  -0.23423524,  196.89551568,   35.34237873]),\n",
       "  array([  1.11698206e-02,   5.05654067e+02,   1.77398533e+01]),\n",
       "  array([ -1.11067301e+00,   1.43849445e-04,   2.21063319e+02,\n",
       "           2.21063319e+02,   1.72888750e+02]),\n",
       "  array([ -2.18683714e+01,   2.30110446e-01,   2.38583791e+02,\n",
       "           2.38583791e+02,   7.07242426e+01]),\n",
       "  array([ -1.09075194e-02,   3.41651167e+02,   4.32677094e+01]),\n",
       "  array([ -2.83671300e-03,   6.15069734e+01,   6.15069734e+01,\n",
       "           1.63317317e+02]),\n",
       "  array([ -0.12562957,  56.52932092,  56.52932092,  44.43209789]),\n",
       "  array([  6.16875297e-05,   3.03467861e+02,   7.11170954e+01]),\n",
       "  array([   0.38383075,  190.66697563,  115.92429557]),\n",
       "  array([  6.95708683,  82.93756092,  41.75555919]),\n",
       "  array([ -8.39141854e-03,   4.32554018e+02,   3.53061530e+00]),\n",
       "  array([  1.74916306e-02,   7.33523431e+01,   1.35525799e+02]),\n",
       "  array([  0.96180938,  74.53602891,  22.40876107]),\n",
       "  array([ -3.71108711e-04,   1.80724300e+02,   1.05344543e+02]),\n",
       "  array([ 2640.59484704,   169.75746366,   132.09297316]),\n",
       "  array([ 130.6625,  100.    ,  100.    ,   50.    ]),\n",
       "  array([ 499.7268502 ,  429.50551286,    2.27720332])],\n",
       " 'residuals': [array([  1.15788491e+00,   1.04169532e+02,   6.92857698e-01,\n",
       "           6.15445750e-01,   2.59435684e+01,   4.67282223e-01,\n",
       "           7.42190326e-01,   2.98027994e+01,   2.00992479e-02,\n",
       "           3.40905668e+00,   5.50135747e+01,   6.55339933e-02,\n",
       "           3.64700598e-01,   1.74999624e+01,   8.74606959e-02,\n",
       "           2.69343774e+00,   6.64197438e+03,   1.22142706e+00])],\n",
       " 'type': ['FOPTD',\n",
       "  'FOPTD',\n",
       "  'FOPTD',\n",
       "  'SOZPTD',\n",
       "  'SOZPTD',\n",
       "  'FOPTD',\n",
       "  'SOPTD',\n",
       "  'SOPTD',\n",
       "  'FOPTD',\n",
       "  'FOPTD',\n",
       "  'FOPTD',\n",
       "  'FOPTD',\n",
       "  'FOPTD',\n",
       "  'FOPTD',\n",
       "  'FOPTD',\n",
       "  'FOPTD',\n",
       "  'SOPTD',\n",
       "  'FOPTD']}"
      ]
     },
     "execution_count": 20,
     "metadata": {},
     "output_type": "execute_result"
    }
   ],
   "source": [
    "run_all_fits(names,fit_types,initials,yo_vals,u_vals,data)"
   ]
  },
  {
   "cell_type": "code",
   "execution_count": 24,
   "metadata": {
    "collapsed": false
   },
   "outputs": [],
   "source": [
    "results = {'fit': ['Ps1Cc_measured',\n",
    "  'Ps1T',\n",
    "  'Ps1H',\n",
    "  'Ps2Cc_measured',\n",
    "  'Ps2T',\n",
    "  'Ps2H',\n",
    "  'Ps3Cc_measured',\n",
    "  'Ps3T',\n",
    "  'Ps3H',\n",
    "  'CaoCc_measured',\n",
    "  'CaoT',\n",
    "  'CaoH',\n",
    "  'TboCc_measured',\n",
    "  'TboT',\n",
    "  'TboH',\n",
    "  'F1Cc_measured',\n",
    "  'F1T',\n",
    "  'F1H'],\n",
    " 'initial': [[0.1, 100, 50],\n",
    "  [0.1, 100, 50],\n",
    "  [0.1, 100, 50],\n",
    "  [-1, 0.5, 100, 100, 50],\n",
    "  [-1, 0.5, 100, 100, 50],\n",
    "  [0.1, 100, 50],\n",
    "  [0.1, 100, 100, 50],\n",
    "  [0.1, 100, 100, 50],\n",
    "  [0.1, 100, 50],\n",
    "  [0.1, 100, 50],\n",
    "  [0.1, 100, 50],\n",
    "  [0.1, 100, 50],\n",
    "  [0.1, 100, 50],\n",
    "  [0.1, 100, 50],\n",
    "  [0.1, 100, 50],\n",
    "  [0.1, 100, 50],\n",
    "  [0.1, 100, 100, 50],\n",
    "  [0.1, 100, 50]],\n",
    " 'optimal_paramters': [array([ -1.38253997e-02,   1.61808000e+02,   1.38423046e+02]),\n",
    "  array([  -0.23423524,  196.89551568,   35.34237873]),\n",
    "  array([  1.11698206e-02,   5.05654067e+02,   1.77398533e+01]),\n",
    "  array([ -1.11067301e+00,   1.43849445e-04,   2.21063319e+02,\n",
    "           2.21063319e+02,   1.72888750e+02]),\n",
    "  array([ -2.18683714e+01,   2.30110446e-01,   2.38583791e+02,\n",
    "           2.38583791e+02,   7.07242426e+01]),\n",
    "  array([ -1.09075194e-02,   3.41651167e+02,   4.32677094e+01]),\n",
    "  array([ -2.83671300e-03,   6.15069734e+01,   6.15069734e+01,\n",
    "           1.63317317e+02]),\n",
    "  array([ -0.12562957,  56.52932092,  56.52932092,  44.43209789]),\n",
    "  array([  6.16875297e-05,   3.03467861e+02,   7.11170954e+01]),\n",
    "  array([   0.38383075,  190.66697563,  115.92429557]),\n",
    "  array([  6.95708683,  82.93756092,  41.75555919]),\n",
    "  array([ -8.39141854e-03,   4.32554018e+02,   3.53061530e+00]),\n",
    "  array([  1.74916306e-02,   7.33523431e+01,   1.35525799e+02]),\n",
    "  array([  0.96180938,  74.53602891,  22.40876107]),\n",
    "  array([ -3.71108711e-04,   1.80724300e+02,   1.05344543e+02]),\n",
    "  array([ 2640.59484704,   169.75746366,   132.09297316]),\n",
    "  array([ 130.6625,  100.    ,  100.    ,   50.    ]),\n",
    "  array([ 499.7268502 ,  429.50551286,    2.27720332])],\n",
    " 'residuals': [array([  1.15788491e+00,   1.04169532e+02,   6.92857698e-01,\n",
    "           6.15445750e-01,   2.59435684e+01,   4.67282223e-01,\n",
    "           7.42190326e-01,   2.98027994e+01,   2.00992479e-02,\n",
    "           3.40905668e+00,   5.50135747e+01,   6.55339933e-02,\n",
    "           3.64700598e-01,   1.74999624e+01,   8.74606959e-02,\n",
    "           2.69343774e+00,   6.64197438e+03,   1.22142706e+00])],\n",
    " 'type': ['FOPTD',\n",
    "  'FOPTD',\n",
    "  'FOPTD',\n",
    "  'SOZPTD',\n",
    "  'SOZPTD',\n",
    "  'FOPTD',\n",
    "  'SOPTD',\n",
    "  'SOPTD',\n",
    "  'FOPTD',\n",
    "  'FOPTD',\n",
    "  'FOPTD',\n",
    "  'FOPTD',\n",
    "  'FOPTD',\n",
    "  'FOPTD',\n",
    "  'FOPTD',\n",
    "  'FOPTD',\n",
    "  'SOPTD',\n",
    "  'FOPTD']}"
   ]
  },
  {
   "cell_type": "code",
   "execution_count": 27,
   "metadata": {
    "collapsed": false
   },
   "outputs": [
    {
     "data": {
      "text/plain": [
       "[array([ -1.38253997e-02,   1.61808000e+02,   1.38423046e+02]),\n",
       " array([  -0.23423524,  196.89551568,   35.34237873]),\n",
       " array([  1.11698206e-02,   5.05654067e+02,   1.77398533e+01]),\n",
       " array([ -1.11067301e+00,   1.43849445e-04,   2.21063319e+02,\n",
       "          2.21063319e+02,   1.72888750e+02]),\n",
       " array([ -2.18683714e+01,   2.30110446e-01,   2.38583791e+02,\n",
       "          2.38583791e+02,   7.07242426e+01]),\n",
       " array([ -1.09075194e-02,   3.41651167e+02,   4.32677094e+01]),\n",
       " array([ -2.83671300e-03,   6.15069734e+01,   6.15069734e+01,\n",
       "          1.63317317e+02]),\n",
       " array([ -0.12562957,  56.52932092,  56.52932092,  44.43209789]),\n",
       " array([  6.16875297e-05,   3.03467861e+02,   7.11170954e+01]),\n",
       " array([   0.38383075,  190.66697563,  115.92429557]),\n",
       " array([  6.95708683,  82.93756092,  41.75555919]),\n",
       " array([ -8.39141854e-03,   4.32554018e+02,   3.53061530e+00]),\n",
       " array([  1.74916306e-02,   7.33523431e+01,   1.35525799e+02]),\n",
       " array([  0.96180938,  74.53602891,  22.40876107]),\n",
       " array([ -3.71108711e-04,   1.80724300e+02,   1.05344543e+02]),\n",
       " array([ 2640.59484704,   169.75746366,   132.09297316]),\n",
       " array([ 130.6625,  100.    ,  100.    ,   50.    ]),\n",
       " array([ 499.7268502 ,  429.50551286,    2.27720332])]"
      ]
     },
     "execution_count": 27,
     "metadata": {},
     "output_type": "execute_result"
    }
   ],
   "source": []
  },
  {
   "cell_type": "code",
   "execution_count": null,
   "metadata": {
    "collapsed": true
   },
   "outputs": [],
   "source": []
  }
 ],
 "metadata": {
  "kernelspec": {
   "display_name": "Python 3",
   "language": "python",
   "name": "python3"
  },
  "language_info": {
   "codemirror_mode": {
    "name": "ipython",
    "version": 3
   },
   "file_extension": ".py",
   "mimetype": "text/x-python",
   "name": "python",
   "nbconvert_exporter": "python",
   "pygments_lexer": "ipython3",
   "version": "3.4.3"
  }
 },
 "nbformat": 4,
 "nbformat_minor": 0
}
